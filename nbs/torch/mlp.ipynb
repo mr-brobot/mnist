{
 "cells": [
  {
   "cell_type": "code",
   "execution_count": 1,
   "metadata": {},
   "outputs": [
    {
     "data": {
      "text/plain": [
       "device(type='cuda')"
      ]
     },
     "execution_count": 1,
     "metadata": {},
     "output_type": "execute_result"
    }
   ],
   "source": [
    "import torch\n",
    "\n",
    "device = torch.device(\"cuda\" if torch.cuda.is_available() else \"cpu\")\n",
    "\n",
    "device"
   ]
  },
  {
   "cell_type": "code",
   "execution_count": 2,
   "metadata": {},
   "outputs": [
    {
     "data": {
      "text/plain": [
       "PosixPath('/workspaces/mnist/data')"
      ]
     },
     "execution_count": 2,
     "metadata": {},
     "output_type": "execute_result"
    }
   ],
   "source": [
    "from pathlib import Path\n",
    "\n",
    "DATA_DIR = Path.cwd().parent.parent / \"data\"\n",
    "\n",
    "DATA_DIR"
   ]
  },
  {
   "cell_type": "code",
   "execution_count": 3,
   "metadata": {},
   "outputs": [],
   "source": [
    "import torch\n",
    "\n",
    "generator = torch.Generator().manual_seed(42)"
   ]
  },
  {
   "cell_type": "markdown",
   "metadata": {},
   "source": [
    "# Train/Dev Splits"
   ]
  },
  {
   "cell_type": "code",
   "execution_count": 4,
   "metadata": {},
   "outputs": [
    {
     "data": {
      "text/plain": [
       "Dataset MNIST\n",
       "    Number of datapoints: 60000\n",
       "    Root location: /workspaces/mnist/data/train\n",
       "    Split: Train\n",
       "    StandardTransform\n",
       "Transform: ToTensor()"
      ]
     },
     "execution_count": 4,
     "metadata": {},
     "output_type": "execute_result"
    }
   ],
   "source": [
    "\n",
    "from torchvision.datasets import MNIST\n",
    "from torchvision.transforms import ToTensor\n",
    "\n",
    "train_ds = MNIST(\n",
    "    root=DATA_DIR / \"train\",\n",
    "    train=True,\n",
    "    download=True,\n",
    "    transform=ToTensor(),\n",
    ")\n",
    "\n",
    "train_ds"
   ]
  },
  {
   "cell_type": "code",
   "execution_count": 5,
   "metadata": {},
   "outputs": [
    {
     "data": {
      "text/plain": [
       "(50000, 10000)"
      ]
     },
     "execution_count": 5,
     "metadata": {},
     "output_type": "execute_result"
    }
   ],
   "source": [
    "import torch\n",
    "from torch.utils.data import random_split\n",
    "\n",
    "DEV_SIZE = 10_000\n",
    "\n",
    "train_ds, dev_ds = random_split(\n",
    "    train_ds,\n",
    "    [len(train_ds) - DEV_SIZE, DEV_SIZE],\n",
    "    generator=torch.Generator().manual_seed(42),\n",
    ")\n",
    "\n",
    "len(train_ds), len(dev_ds)"
   ]
  },
  {
   "cell_type": "code",
   "execution_count": 6,
   "metadata": {},
   "outputs": [
    {
     "data": {
      "text/plain": [
       "(torch.Size([8, 1, 28, 28]), torch.Size([8]))"
      ]
     },
     "execution_count": 6,
     "metadata": {},
     "output_type": "execute_result"
    }
   ],
   "source": [
    "from torch.utils.data import DataLoader\n",
    "\n",
    "dataloader = DataLoader(train_ds, batch_size=8, shuffle=False)\n",
    "\n",
    "x, y = next(iter(dataloader))\n",
    "\n",
    "x.shape, y.shape"
   ]
  },
  {
   "cell_type": "code",
   "execution_count": 7,
   "metadata": {},
   "outputs": [
    {
     "data": {
      "image/png": "[encoded data removed]",
      "text/plain": [
       "<Figure size 640x480 with 1 Axes>"
      ]
     },
     "metadata": {},
     "output_type": "display_data"
    }
   ],
   "source": [
    "import matplotlib.pyplot as plt\n",
    "\n",
    "x = x.to(\"cpu\")\n",
    "\n",
    "plt.title(f\"Label: {y[0]}\")\n",
    "plt.imshow(x.squeeze()[0], cmap=\"gray\")\n",
    "\n",
    "plt.show()"
   ]
  },
  {
   "cell_type": "code",
   "execution_count": 8,
   "metadata": {},
   "outputs": [
    {
     "data": {
      "image/png": "[encoded data removed]",
      "text/plain": [
       "<Figure size 640x480 with 1 Axes>"
      ]
     },
     "metadata": {},
     "output_type": "display_data"
    }
   ],
   "source": [
    "x = x.to(\"cpu\")\n",
    "\n",
    "plt.title(f\"Label: {y[1]}\")\n",
    "plt.imshow(x.squeeze()[1], cmap=\"gray\")\n",
    "\n",
    "plt.show()"
   ]
  },
  {
   "cell_type": "markdown",
   "metadata": {},
   "source": [
    "# Model Definition"
   ]
  },
  {
   "cell_type": "markdown",
   "metadata": {},
   "source": [
    "TODO\n",
    "- input norm\n",
    "- batch norm\n",
    "- hyperparameter tuning\n",
    "- quantization"
   ]
  },
  {
   "cell_type": "code",
   "execution_count": 9,
   "metadata": {},
   "outputs": [],
   "source": [
    "import torch\n",
    "import torch.nn as nn\n",
    "\n",
    "@torch.compile\n",
    "class MLP(nn.Module):\n",
    "    def __init__(self):\n",
    "        super().__init__()\n",
    "        self.flatten = nn.Flatten(1, -1) # (B, 28, 28) -> (B, 28*28)\n",
    "        self.linear_relu_stack = nn.Sequential(\n",
    "            nn.Linear(28*28, 64),\n",
    "            nn.ReLU(),\n",
    "            nn.Linear(64, 32),\n",
    "            nn.ReLU(),\n",
    "            nn.Linear(32, 10),\n",
    "        )\n",
    "\n",
    "    def forward(self, x):\n",
    "        f = self.flatten(x)\n",
    "        logits = self.linear_relu_stack(f)\n",
    "        return logits"
   ]
  },
  {
   "cell_type": "code",
   "execution_count": 10,
   "metadata": {},
   "outputs": [
    {
     "data": {
      "text/plain": [
       "MLP(\n",
       "  (flatten): Flatten(start_dim=1, end_dim=-1)\n",
       "  (linear_relu_stack): Sequential(\n",
       "    (0): Linear(in_features=784, out_features=64, bias=True)\n",
       "    (1): ReLU()\n",
       "    (2): Linear(in_features=64, out_features=32, bias=True)\n",
       "    (3): ReLU()\n",
       "    (4): Linear(in_features=32, out_features=10, bias=True)\n",
       "  )\n",
       ")"
      ]
     },
     "execution_count": 10,
     "metadata": {},
     "output_type": "execute_result"
    }
   ],
   "source": [
    "model = MLP()\n",
    "\n",
    "model"
   ]
  },
  {
   "cell_type": "code",
   "execution_count": 11,
   "metadata": {},
   "outputs": [
    {
     "data": {
      "text/plain": [
       "torch.Size([8, 10])"
      ]
     },
     "execution_count": 11,
     "metadata": {},
     "output_type": "execute_result"
    }
   ],
   "source": [
    "logits = model(x)\n",
    "\n",
    "logits.shape"
   ]
  },
  {
   "cell_type": "code",
   "execution_count": 12,
   "metadata": {},
   "outputs": [
    {
     "data": {
      "text/plain": [
       "tensor([8, 0, 7, 0, 0, 0, 0, 0])"
      ]
     },
     "execution_count": 12,
     "metadata": {},
     "output_type": "execute_result"
    }
   ],
   "source": [
    "logits.argmax(1)"
   ]
  },
  {
   "cell_type": "markdown",
   "metadata": {},
   "source": [
    "# Base Training"
   ]
  },
  {
   "cell_type": "code",
   "execution_count": 27,
   "metadata": {},
   "outputs": [],
   "source": [
    "EPOCHS = 8\n",
    "BATCH_SIZE = 32\n",
    "LEARNING_RATE = 1e-3"
   ]
  },
  {
   "cell_type": "code",
   "execution_count": 28,
   "metadata": {},
   "outputs": [],
   "source": [
    "import torch\n",
    "import torch.nn as nn\n",
    "from torch.utils.data import DataLoader\n",
    "\n",
    "def train_loop(model: nn.Module, dataloader: DataLoader, loss_fn: nn.Module, optimizer: torch.optim.Optimizer) -> float:\n",
    "    model = model.to(device).train()\n",
    "    size = len(dataloader.dataset)\n",
    "    train_loss, correct = 0, 0\n",
    "    for batch, (X, y) in enumerate(dataloader):\n",
    "        X, y = X.to(device), y.to(device)\n",
    "        X = X.squeeze()\n",
    "\n",
    "        pred = model(X)\n",
    "        loss = loss_fn(pred, y)\n",
    "\n",
    "        optimizer.zero_grad()\n",
    "        loss.backward()\n",
    "        optimizer.step()\n",
    "        \n",
    "        train_loss += loss.item()\n",
    "        correct += (\n",
    "            (pred.argmax(1) == y)\n",
    "            .type(torch.float)\n",
    "            .sum()\n",
    "            .item()\n",
    "        )\n",
    "\n",
    "        if batch % 100 == 0:\n",
    "            loss, current = loss.item(), batch * len(X)\n",
    "            print(f\"loss: {loss:>7f}  [{current:>5d}/{size:>5d}]\")\n",
    "            \n",
    "    accuracy = correct / size\n",
    "    train_loss /= size\n",
    "\n",
    "    print(f\"Train Error: \\n Accuracy: {100 * accuracy:>0.1f}%, Avg loss: {train_loss:>8f} \\n\")\n",
    "\n",
    "    return accuracy\n",
    "\n",
    "@torch.no_grad\n",
    "def test_loop(model: nn.Module, dataloader: DataLoader, loss_fn: nn.Module) -> float:\n",
    "    model = model.to(device).eval()\n",
    "    size = len(dataloader.dataset)\n",
    "    test_loss, correct = 0, 0\n",
    "\n",
    "    for X, y in dataloader:\n",
    "        X, y = X.to(device), y.to(device)\n",
    "        X = X.squeeze()\n",
    "\n",
    "        pred = model(X)\n",
    "        test_loss += loss_fn(pred, y).item()\n",
    "        correct += (\n",
    "            (pred.argmax(1) == y)\n",
    "            .type(torch.float)\n",
    "            .sum()\n",
    "            .item()\n",
    "        )\n",
    "\n",
    "    test_loss /= size\n",
    "    accuracy = correct / size\n",
    "    print(f\"Test Error: \\n Accuracy: {100 * accuracy:>0.1f}%, Avg loss: {test_loss:>8f} \\n\")\n",
    "\n",
    "    return accuracy"
   ]
  },
  {
   "cell_type": "code",
   "execution_count": 29,
   "metadata": {},
   "outputs": [
    {
     "name": "stdout",
     "output_type": "stream",
     "text": [
      "Epoch 1\n",
      "-------------------------------\n",
      "loss: 2.297475  [    0/50000]\n",
      "loss: 0.593739  [ 3200/50000]\n",
      "loss: 0.262782  [ 6400/50000]\n",
      "loss: 0.474719  [ 9600/50000]\n",
      "loss: 0.273897  [12800/50000]\n",
      "loss: 0.117026  [16000/50000]\n",
      "loss: 0.229061  [19200/50000]\n",
      "loss: 0.665019  [22400/50000]\n",
      "loss: 0.815856  [25600/50000]\n",
      "loss: 0.058037  [28800/50000]\n",
      "loss: 0.103121  [32000/50000]\n",
      "loss: 0.328588  [35200/50000]\n",
      "loss: 0.126098  [38400/50000]\n",
      "loss: 0.200472  [41600/50000]\n",
      "loss: 0.484386  [44800/50000]\n",
      "loss: 0.179215  [48000/50000]\n",
      "Train Error: \n",
      " Accuracy: 89.5%, Avg loss: 0.011565 \n",
      "\n",
      "Test Error: \n",
      " Accuracy: 93.9%, Avg loss: 0.006718 \n",
      "\n",
      "Epoch 2\n",
      "-------------------------------\n",
      "loss: 0.208941  [    0/50000]\n",
      "loss: 0.128430  [ 3200/50000]\n",
      "loss: 0.091406  [ 6400/50000]\n",
      "loss: 0.169882  [ 9600/50000]\n",
      "loss: 0.211048  [12800/50000]\n",
      "loss: 0.149919  [16000/50000]\n",
      "loss: 0.388928  [19200/50000]\n",
      "loss: 0.110249  [22400/50000]\n",
      "loss: 0.392031  [25600/50000]\n",
      "loss: 0.084779  [28800/50000]\n",
      "loss: 0.188984  [32000/50000]\n",
      "loss: 0.098202  [35200/50000]\n",
      "loss: 0.032502  [38400/50000]\n",
      "loss: 0.064464  [41600/50000]\n",
      "loss: 0.050007  [44800/50000]\n",
      "loss: 0.097869  [48000/50000]\n",
      "Train Error: \n",
      " Accuracy: 95.1%, Avg loss: 0.005177 \n",
      "\n",
      "Test Error: \n",
      " Accuracy: 95.2%, Avg loss: 0.005181 \n",
      "\n",
      "Epoch 3\n",
      "-------------------------------\n",
      "loss: 0.049889  [    0/50000]\n",
      "loss: 0.048764  [ 3200/50000]\n",
      "loss: 0.026810  [ 6400/50000]\n",
      "loss: 0.058476  [ 9600/50000]\n",
      "loss: 0.071157  [12800/50000]\n",
      "loss: 0.033217  [16000/50000]\n",
      "loss: 0.156249  [19200/50000]\n",
      "loss: 0.134926  [22400/50000]\n",
      "loss: 0.045577  [25600/50000]\n",
      "loss: 0.017925  [28800/50000]\n",
      "loss: 0.028168  [32000/50000]\n",
      "loss: 0.228025  [35200/50000]\n",
      "loss: 0.085762  [38400/50000]\n",
      "loss: 0.163003  [41600/50000]\n",
      "loss: 0.168392  [44800/50000]\n",
      "loss: 0.078782  [48000/50000]\n",
      "Train Error: \n",
      " Accuracy: 96.4%, Avg loss: 0.003753 \n",
      "\n",
      "Test Error: \n",
      " Accuracy: 95.9%, Avg loss: 0.004136 \n",
      "\n",
      "Epoch 4\n",
      "-------------------------------\n",
      "loss: 0.066007  [    0/50000]\n",
      "loss: 0.128408  [ 3200/50000]\n",
      "loss: 0.219358  [ 6400/50000]\n",
      "loss: 0.195240  [ 9600/50000]\n",
      "loss: 0.067895  [12800/50000]\n",
      "loss: 0.076072  [16000/50000]\n",
      "loss: 0.053804  [19200/50000]\n",
      "loss: 0.317182  [22400/50000]\n",
      "loss: 0.069180  [25600/50000]\n",
      "loss: 0.083682  [28800/50000]\n",
      "loss: 0.014563  [32000/50000]\n",
      "loss: 0.262980  [35200/50000]\n",
      "loss: 0.012510  [38400/50000]\n",
      "loss: 0.020765  [41600/50000]\n",
      "loss: 0.018493  [44800/50000]\n",
      "loss: 0.407504  [48000/50000]\n",
      "Train Error: \n",
      " Accuracy: 97.2%, Avg loss: 0.002937 \n",
      "\n",
      "Test Error: \n",
      " Accuracy: 96.3%, Avg loss: 0.003805 \n",
      "\n",
      "Epoch 5\n",
      "-------------------------------\n",
      "loss: 0.046714  [    0/50000]\n",
      "loss: 0.090572  [ 3200/50000]\n",
      "loss: 0.031056  [ 6400/50000]\n",
      "loss: 0.016595  [ 9600/50000]\n",
      "loss: 0.033990  [12800/50000]\n",
      "loss: 0.025241  [16000/50000]\n",
      "loss: 0.045227  [19200/50000]\n",
      "loss: 0.013513  [22400/50000]\n",
      "loss: 0.016467  [25600/50000]\n",
      "loss: 0.051147  [28800/50000]\n",
      "loss: 0.400030  [32000/50000]\n",
      "loss: 0.104509  [35200/50000]\n",
      "loss: 0.075790  [38400/50000]\n",
      "loss: 0.042681  [41600/50000]\n",
      "loss: 0.008968  [44800/50000]\n",
      "loss: 0.263569  [48000/50000]\n",
      "Train Error: \n",
      " Accuracy: 97.6%, Avg loss: 0.002409 \n",
      "\n",
      "Test Error: \n",
      " Accuracy: 96.3%, Avg loss: 0.003716 \n",
      "\n",
      "Epoch 6\n",
      "-------------------------------\n",
      "loss: 0.072788  [    0/50000]\n",
      "loss: 0.022100  [ 3200/50000]\n",
      "loss: 0.129466  [ 6400/50000]\n",
      "loss: 0.077237  [ 9600/50000]\n",
      "loss: 0.043077  [12800/50000]\n",
      "loss: 0.119618  [16000/50000]\n",
      "loss: 0.006589  [19200/50000]\n",
      "loss: 0.281941  [22400/50000]\n",
      "loss: 0.125476  [25600/50000]\n",
      "loss: 0.122328  [28800/50000]\n",
      "loss: 0.007883  [32000/50000]\n",
      "loss: 0.032463  [35200/50000]\n",
      "loss: 0.037197  [38400/50000]\n",
      "loss: 0.050243  [41600/50000]\n",
      "loss: 0.007181  [44800/50000]\n",
      "loss: 0.024901  [48000/50000]\n",
      "Train Error: \n",
      " Accuracy: 98.0%, Avg loss: 0.002015 \n",
      "\n",
      "Test Error: \n",
      " Accuracy: 96.8%, Avg loss: 0.003481 \n",
      "\n",
      "Epoch 7\n",
      "-------------------------------\n",
      "loss: 0.070959  [    0/50000]\n",
      "loss: 0.055625  [ 3200/50000]\n",
      "loss: 0.035135  [ 6400/50000]\n",
      "loss: 0.037605  [ 9600/50000]\n",
      "loss: 0.118607  [12800/50000]\n",
      "loss: 0.002374  [16000/50000]\n",
      "loss: 0.028643  [19200/50000]\n",
      "loss: 0.038001  [22400/50000]\n",
      "loss: 0.017697  [25600/50000]\n",
      "loss: 0.031088  [28800/50000]\n",
      "loss: 0.078229  [32000/50000]\n",
      "loss: 0.072308  [35200/50000]\n",
      "loss: 0.050595  [38400/50000]\n",
      "loss: 0.014237  [41600/50000]\n",
      "loss: 0.008939  [44800/50000]\n",
      "loss: 0.095942  [48000/50000]\n",
      "Train Error: \n",
      " Accuracy: 98.4%, Avg loss: 0.001721 \n",
      "\n",
      "Test Error: \n",
      " Accuracy: 96.7%, Avg loss: 0.003360 \n",
      "\n",
      "Epoch 8\n",
      "-------------------------------\n",
      "loss: 0.013759  [    0/50000]\n",
      "loss: 0.008662  [ 3200/50000]\n",
      "loss: 0.067766  [ 6400/50000]\n",
      "loss: 0.009756  [ 9600/50000]\n",
      "loss: 0.045054  [12800/50000]\n",
      "loss: 0.106388  [16000/50000]\n",
      "loss: 0.011343  [19200/50000]\n",
      "loss: 0.004667  [22400/50000]\n",
      "loss: 0.013075  [25600/50000]\n",
      "loss: 0.006181  [28800/50000]\n",
      "loss: 0.005482  [32000/50000]\n",
      "loss: 0.008654  [35200/50000]\n",
      "loss: 0.001563  [38400/50000]\n",
      "loss: 0.019087  [41600/50000]\n",
      "loss: 0.009116  [44800/50000]\n",
      "loss: 0.008547  [48000/50000]\n",
      "Train Error: \n",
      " Accuracy: 98.5%, Avg loss: 0.001513 \n",
      "\n",
      "Test Error: \n",
      " Accuracy: 96.5%, Avg loss: 0.003816 \n",
      "\n"
     ]
    }
   ],
   "source": [
    "import torch\n",
    "import torch.nn as nn\n",
    "from torch.utils.data import DataLoader\n",
    "\n",
    "train_dataloader = DataLoader(train_ds, batch_size=BATCH_SIZE, shuffle=True, generator=generator)\n",
    "dev_dataloader = DataLoader(dev_ds, batch_size=BATCH_SIZE, shuffle=False)\n",
    "\n",
    "model = MLP()\n",
    "# model.compile()\n",
    "\n",
    "loss_fn = nn.CrossEntropyLoss()\n",
    "optimizer = torch.optim.Adam(model.parameters(), lr=LEARNING_RATE)\n",
    "\n",
    "train_accuracies = []\n",
    "test_accuracies = []\n",
    "for t in range(EPOCHS):\n",
    "    print(f\"Epoch {t+1}\\n-------------------------------\")\n",
    "    train_accuracy = train_loop(model, train_dataloader, loss_fn, optimizer)\n",
    "    test_accuracy = test_loop(model, dev_dataloader, loss_fn)\n",
    "\n",
    "    train_accuracies.append(train_accuracy)\n",
    "    test_accuracies.append(test_accuracy)"
   ]
  },
  {
   "cell_type": "markdown",
   "metadata": {},
   "source": [
    "# Analysis"
   ]
  },
  {
   "cell_type": "code",
   "execution_count": 30,
   "metadata": {},
   "outputs": [
    {
     "data": {
      "image/png": "[encoded data removed]",
      "text/plain": [
       "<Figure size 640x480 with 1 Axes>"
      ]
     },
     "metadata": {},
     "output_type": "display_data"
    }
   ],
   "source": [
    "from matplotlib import pyplot as plt\n",
    "plt.plot(train_accuracies, label=\"train accuracy\")\n",
    "plt.plot(test_accuracies, label=\"test accuracy\")\n",
    "plt.xlabel(\"epoch\")\n",
    "plt.ylabel(\"accuracy\")\n",
    "plt.legend()\n",
    "plt.show()"
   ]
  },
  {
   "cell_type": "code",
   "execution_count": 32,
   "metadata": {},
   "outputs": [
    {
     "name": "stdout",
     "output_type": "stream",
     "text": [
      "Train accuracy: 98.4520\n",
      "Test accuracy: 96.5400\n"
     ]
    }
   ],
   "source": [
    "print(f\"Train accuracy: {train_accuracies[-1]*100:.4f}\")\n",
    "print(f\"Test accuracy: {test_accuracies[-1]*100:.4f}\")"
   ]
  },
  {
   "cell_type": "markdown",
   "metadata": {},
   "source": [
    "Accuracy drop from train split to dev split is nearly ~2%. The model seems to be trending toward overfitting after the 5th epoch."
   ]
  },
  {
   "cell_type": "code",
   "execution_count": null,
   "metadata": {},
   "outputs": [],
   "source": [
    "# TODO: Let's graph the weights of the model to see if there is any pattern, graph weights to see how small/large they are in each layer"
   ]
  },
  {
   "cell_type": "code",
   "execution_count": null,
   "metadata": {},
   "outputs": [],
   "source": []
  }
 ],
 "metadata": {
  "kernelspec": {
   "display_name": "Python 3",
   "language": "python",
   "name": "python3"
  },
  "language_info": {
   "codemirror_mode": {
    "name": "ipython",
    "version": 3
   },
   "file_extension": ".py",
   "mimetype": "text/x-python",
   "name": "python",
   "nbconvert_exporter": "python",
   "pygments_lexer": "ipython3",
   "version": "3.12.8"
  }
 },
 "nbformat": 4,
 "nbformat_minor": 2
}
