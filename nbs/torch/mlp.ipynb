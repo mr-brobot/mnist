{
 "cells": [
  {
   "cell_type": "code",
   "execution_count": null,
   "metadata": {},
   "outputs": [],
   "source": [
    "import torch\n",
    "\n",
    "device = torch.device(\"cuda\" if torch.cuda.is_available() else \"cpu\")\n",
    "\n",
    "device"
   ]
  },
  {
   "cell_type": "code",
   "execution_count": null,
   "metadata": {},
   "outputs": [],
   "source": [
    "from pathlib import Path\n",
    "\n",
    "DATA_DIR = Path.cwd().parent.parent / \"data\"\n",
    "\n",
    "DATA_DIR"
   ]
  },
  {
   "cell_type": "code",
   "execution_count": 4,
   "metadata": {},
   "outputs": [],
   "source": [
    "import torch\n",
    "\n",
    "generator = torch.Generator().manual_seed(42)"
   ]
  },
  {
   "cell_type": "markdown",
   "metadata": {},
   "source": [
    "# Splits"
   ]
  },
  {
   "cell_type": "code",
   "execution_count": null,
   "metadata": {},
   "outputs": [],
   "source": [
    "\n",
    "from torchvision.datasets import MNIST\n",
    "from torchvision.transforms import ToTensor\n",
    "\n",
    "train_ds = MNIST(\n",
    "    root=DATA_DIR / \"train\",\n",
    "    train=True,\n",
    "    download=True,\n",
    "    transform=ToTensor(),\n",
    ")\n",
    "\n",
    "train_ds"
   ]
  },
  {
   "cell_type": "code",
   "execution_count": null,
   "metadata": {},
   "outputs": [],
   "source": [
    "import torch\n",
    "from torch.utils.data import random_split\n",
    "\n",
    "DEV_SIZE = 10_000\n",
    "\n",
    "train_ds, dev_ds = random_split(\n",
    "    train_ds,\n",
    "    [len(train_ds) - DEV_SIZE, DEV_SIZE],\n",
    "    generator=torch.Generator().manual_seed(42),\n",
    ")\n",
    "\n",
    "len(train_ds), len(dev_ds)"
   ]
  },
  {
   "cell_type": "code",
   "execution_count": null,
   "metadata": {},
   "outputs": [],
   "source": [
    "from torch.utils.data import DataLoader\n",
    "\n",
    "dataloader = DataLoader(train_ds, batch_size=8, shuffle=False)\n",
    "\n",
    "x, y = next(iter(dataloader))\n",
    "\n",
    "x.shape, y.shape"
   ]
  },
  {
   "cell_type": "code",
   "execution_count": null,
   "metadata": {},
   "outputs": [],
   "source": [
    "import matplotlib.pyplot as plt\n",
    "\n",
    "x = x.to(\"cpu\")\n",
    "\n",
    "plt.title(f\"Label: {y[0]}\")\n",
    "plt.imshow(x.squeeze()[0], cmap=\"gray\")\n",
    "\n",
    "plt.show()"
   ]
  },
  {
   "cell_type": "code",
   "execution_count": null,
   "metadata": {},
   "outputs": [],
   "source": [
    "x = x.to(\"cpu\")\n",
    "\n",
    "plt.title(f\"Label: {y[1]}\")\n",
    "plt.imshow(x.squeeze()[1], cmap=\"gray\")\n",
    "\n",
    "plt.show()"
   ]
  },
  {
   "cell_type": "markdown",
   "metadata": {},
   "source": [
    "# Definition"
   ]
  },
  {
   "cell_type": "markdown",
   "metadata": {},
   "source": [
    "TODO\n",
    "- input norm\n",
    "- batch norm\n",
    "- hyperparameter tuning\n",
    "- quantization"
   ]
  },
  {
   "cell_type": "code",
   "execution_count": 10,
   "metadata": {},
   "outputs": [],
   "source": [
    "import torch\n",
    "import torch.nn as nn\n",
    "\n",
    "@torch.compile\n",
    "class MLP(nn.Module):\n",
    "    def __init__(self):\n",
    "        super().__init__()\n",
    "        self.flatten = nn.Flatten(1, -1) # (B, 28, 28) -> (B, 28*28)\n",
    "        self.linear_relu_stack = nn.Sequential(\n",
    "            nn.Linear(28*28, 64),\n",
    "            nn.ReLU(),\n",
    "            nn.Linear(64, 32),\n",
    "            nn.ReLU(),\n",
    "            nn.Linear(32, 10),\n",
    "        )\n",
    "\n",
    "    def forward(self, x):\n",
    "        f = self.flatten(x)\n",
    "        logits = self.linear_relu_stack(f)\n",
    "        return logits"
   ]
  },
  {
   "cell_type": "code",
   "execution_count": null,
   "metadata": {},
   "outputs": [],
   "source": [
    "model = MLP()\n",
    "\n",
    "model"
   ]
  },
  {
   "cell_type": "code",
   "execution_count": null,
   "metadata": {},
   "outputs": [],
   "source": [
    "logits = model(x)\n",
    "\n",
    "logits.shape"
   ]
  },
  {
   "cell_type": "code",
   "execution_count": null,
   "metadata": {},
   "outputs": [],
   "source": [
    "logits.argmax(1)"
   ]
  },
  {
   "cell_type": "markdown",
   "metadata": {},
   "source": [
    "# Training"
   ]
  },
  {
   "cell_type": "code",
   "execution_count": null,
   "metadata": {},
   "outputs": [],
   "source": [
    "import wandb\n",
    "\n",
    "run = wandb.init(project=\"mnist\", config={\n",
    "    \"architecture\": \"mlp\",\n",
    "    \"epochs\": 5,\n",
    "    \"batch_size\": 64,\n",
    "    \"learning_rate\": 1e-3,\n",
    "})"
   ]
  },
  {
   "cell_type": "code",
   "execution_count": 24,
   "metadata": {},
   "outputs": [],
   "source": [
    "import torch\n",
    "import torch.nn as nn\n",
    "from torch.utils.data import DataLoader\n",
    "from typing import TypedDict\n",
    "\n",
    "class LoopMetrics(TypedDict):\n",
    "    accuracy: float\n",
    "    loss: float\n",
    "\n",
    "def train_loop(model: nn.Module, dataloader: DataLoader, loss_fn: nn.Module, optimizer: torch.optim.Optimizer) -> LoopMetrics:\n",
    "    model = model.to(device).train()\n",
    "    size = len(dataloader.dataset)\n",
    "    train_loss, correct = 0, 0\n",
    "    for batch, (X, y) in enumerate(dataloader):\n",
    "        X, y = X.to(device), y.to(device)\n",
    "        X = X.squeeze()\n",
    "\n",
    "        pred = model(X)\n",
    "        loss = loss_fn(pred, y)\n",
    "\n",
    "        train_loss += loss.item()\n",
    "        run.log({\"train_batch_loss\": loss.item()})\n",
    "\n",
    "        optimizer.zero_grad()\n",
    "        loss.backward()\n",
    "        optimizer.step()\n",
    "        \n",
    "        correct += (\n",
    "            (pred.argmax(1) == y)\n",
    "            .type(torch.float)\n",
    "            .sum()\n",
    "            .item()\n",
    "        )\n",
    "\n",
    "        if batch % 100 == 0:\n",
    "            loss, current = loss.item(), batch * len(X)\n",
    "            print(f\"loss: {loss:>7f}  [{current:>5d}/{size:>5d}]\")\n",
    "            \n",
    "    accuracy = correct / size\n",
    "    train_loss /= size\n",
    "\n",
    "    print(f\"Train Error: \\n Accuracy: {100 * accuracy:>0.1f}%, Avg loss: {train_loss:>8f} \\n\")\n",
    "\n",
    "    return {\n",
    "        \"accuracy\": accuracy,\n",
    "        \"loss\": train_loss,\n",
    "    }\n",
    "\n",
    "@torch.no_grad\n",
    "def test_loop(model: nn.Module, dataloader: DataLoader, loss_fn: nn.Module) -> LoopMetrics:\n",
    "    model = model.to(device).eval()\n",
    "    size = len(dataloader.dataset)\n",
    "    test_loss, correct = 0, 0\n",
    "\n",
    "    for X, y in dataloader:\n",
    "        X, y = X.to(device), y.to(device)\n",
    "        X = X.squeeze()\n",
    "\n",
    "        pred = model(X)\n",
    "        loss = loss_fn(pred, y)\n",
    "    \n",
    "        test_loss += loss.item()\n",
    "    \n",
    "        correct += (\n",
    "            (pred.argmax(1) == y)\n",
    "            .type(torch.float)\n",
    "            .sum()\n",
    "            .item()\n",
    "        )\n",
    "\n",
    "    test_loss /= size\n",
    "    accuracy = correct / size\n",
    "    print(f\"Test Error: \\n Accuracy: {100 * accuracy:>0.1f}%, Avg loss: {test_loss:>8f} \\n\")\n",
    "\n",
    "    return {\n",
    "        \"accuracy\": accuracy,\n",
    "        \"loss\": test_loss,\n",
    "    }"
   ]
  },
  {
   "cell_type": "code",
   "execution_count": null,
   "metadata": {},
   "outputs": [],
   "source": [
    "import torch\n",
    "import torch.nn as nn\n",
    "from torch.utils.data import DataLoader\n",
    "\n",
    "train_dataloader = DataLoader(train_ds, batch_size=run.config.batch_size, shuffle=True, generator=generator)\n",
    "dev_dataloader = DataLoader(dev_ds, batch_size=run.config.batch_size, shuffle=False)\n",
    "\n",
    "model = MLP()\n",
    "# model.compile()\n",
    "\n",
    "run.watch(model)\n",
    "\n",
    "loss_fn = nn.CrossEntropyLoss()\n",
    "optimizer = torch.optim.Adam(model.parameters(), lr=run.config.learning_rate)\n",
    "\n",
    "for t in range(run.config.epochs):\n",
    "    print(f\"Epoch {t+1}\\n-------------------------------\")\n",
    "    train_metrics = train_loop(model, train_dataloader, loss_fn, optimizer)\n",
    "    test_metrics = test_loop(model, dev_dataloader, loss_fn)\n",
    "    run.log({\n",
    "        \"train_epoch_accuracy\": train_metrics[\"accuracy\"],\n",
    "        \"train_epoch_loss\": train_metrics[\"loss\"],\n",
    "        \"test_epoch_accuracy\": test_metrics[\"accuracy\"],\n",
    "        \"test_epoch_loss\": test_metrics[\"loss\"],\n",
    "    })\n",
    "\n",
    "# TODO: save in onnx format\n",
    "# run.log_artifact(model)\n",
    "run.finish()"
   ]
  }
 ],
 "metadata": {
  "kernelspec": {
   "display_name": "Python 3",
   "language": "python",
   "name": "python3"
  },
  "language_info": {
   "codemirror_mode": {
    "name": "ipython",
    "version": 3
   },
   "file_extension": ".py",
   "mimetype": "text/x-python",
   "name": "python",
   "nbconvert_exporter": "python",
   "pygments_lexer": "ipython3",
   "version": "3.12.8"
  }
 },
 "nbformat": 4,
 "nbformat_minor": 2
}
