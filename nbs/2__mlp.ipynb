{
 "cells": [
  {
   "cell_type": "code",
   "execution_count": 1,
   "metadata": {},
   "outputs": [
    {
     "data": {
      "text/plain": [
       "PosixPath('/workspaces/mnist/data')"
      ]
     },
     "execution_count": 1,
     "metadata": {},
     "output_type": "execute_result"
    }
   ],
   "source": [
    "from pathlib import Path\n",
    "\n",
    "DATA_DIR = Path.cwd().parent / \"data\"\n",
    "\n",
    "DATA_DIR"
   ]
  },
  {
   "cell_type": "code",
   "execution_count": 27,
   "metadata": {},
   "outputs": [
    {
     "data": {
      "text/plain": [
       "device(type='cuda')"
      ]
     },
     "execution_count": 27,
     "metadata": {},
     "output_type": "execute_result"
    }
   ],
   "source": [
    "import torch\n",
    "\n",
    "device = torch.device(\"cuda\" if torch.cuda.is_available() else \"cpu\")\n",
    "\n",
    "if torch.cuda.is_available():\n",
    "    torch.set_float32_matmul_precision('high')\n",
    "\n",
    "device"
   ]
  },
  {
   "cell_type": "code",
   "execution_count": 3,
   "metadata": {},
   "outputs": [],
   "source": [
    "import torch\n",
    "\n",
    "generator = torch.Generator().manual_seed(42)"
   ]
  },
  {
   "cell_type": "markdown",
   "metadata": {},
   "source": [
    "# Splits"
   ]
  },
  {
   "cell_type": "code",
   "execution_count": 15,
   "metadata": {},
   "outputs": [
    {
     "data": {
      "text/plain": [
       "Dataset MNIST\n",
       "    Number of datapoints: 60000\n",
       "    Root location: /workspaces/mnist/data/train\n",
       "    Split: Train\n",
       "    StandardTransform\n",
       "Transform: ToTensor()"
      ]
     },
     "execution_count": 15,
     "metadata": {},
     "output_type": "execute_result"
    }
   ],
   "source": [
    "from torchvision.datasets import MNIST\n",
    "from torchvision.transforms import ToTensor\n",
    "\n",
    "train_ds = MNIST(\n",
    "    root=DATA_DIR / \"train\",\n",
    "    train=True,\n",
    "    download=True,\n",
    "    transform=ToTensor(),\n",
    ")\n",
    "\n",
    "train_ds"
   ]
  },
  {
   "cell_type": "code",
   "execution_count": null,
   "metadata": {},
   "outputs": [
    {
     "data": {
      "text/plain": [
       "(50000, 10000)"
      ]
     },
     "execution_count": 5,
     "metadata": {},
     "output_type": "execute_result"
    }
   ],
   "source": [
    "from torch.utils.data import random_split\n",
    "\n",
    "DEV_SIZE = 10_000\n",
    "\n",
    "train_ds, dev_ds = random_split(\n",
    "    train_ds,\n",
    "    [len(train_ds) - DEV_SIZE, DEV_SIZE],\n",
    "    generator=generator,\n",
    ")\n",
    "\n",
    "len(train_ds), len(dev_ds)"
   ]
  },
  {
   "cell_type": "markdown",
   "metadata": {},
   "source": [
    "# Definition"
   ]
  },
  {
   "cell_type": "markdown",
   "metadata": {},
   "source": [
    "with relu activations, conventional normalization (e.g., converting to standard deviations) with a 0-skewed input dataset, gradients will vanish. min-max scaling seems like a better approach with relu. since the min is 0, this will end up just dividing each input by 255\n",
    "\n",
    "learning with min-max scaling is much slower. current hypothesis is that, with input values heavily skewed towards 0, the non-zero values do not have enough influence. so weights need to be much larger to compensate. should look at batch norm next, and find other ways to test this hypothesis"
   ]
  },
  {
   "cell_type": "code",
   "execution_count": 30,
   "metadata": {},
   "outputs": [
    {
     "data": {
      "text/plain": [
       "(0.0, 255.0)"
      ]
     },
     "execution_count": 30,
     "metadata": {},
     "output_type": "execute_result"
    }
   ],
   "source": [
    "X_train = train_ds.data.float()\n",
    "\n",
    "min = X_train.min().item()\n",
    "max = X_train.max().item()\n",
    "\n",
    "min, max"
   ]
  },
  {
   "cell_type": "code",
   "execution_count": 16,
   "metadata": {},
   "outputs": [],
   "source": [
    "import torch.nn as nn\n",
    "\n",
    "class Scale(nn.Module):\n",
    "    min: float\n",
    "    max: float\n",
    "\n",
    "    def __init__(self, min: float, max: float):\n",
    "        super().__init__()\n",
    "        self.min = min\n",
    "        self.max = max\n",
    "\n",
    "    def forward(self, x):\n",
    "        return (x - self.min) / (self.max - self.min)"
   ]
  },
  {
   "cell_type": "code",
   "execution_count": 22,
   "metadata": {},
   "outputs": [],
   "source": [
    "import torch\n",
    "import torch.nn as nn\n",
    "\n",
    "@torch.compile\n",
    "class MLP(nn.Module):\n",
    "    def __init__(self):\n",
    "        super().__init__()\n",
    "        self.scale = Scale(min, max)\n",
    "        self.flatten = nn.Flatten(1, -1) # (B, 28, 28) -> (B, 28*28)\n",
    "        self.linear_relu_stack = nn.Sequential(\n",
    "            nn.Linear(28*28, 128),\n",
    "            nn.ReLU(),\n",
    "            nn.Linear(128, 64),\n",
    "            nn.ReLU(),\n",
    "            nn.Linear(64, 32),\n",
    "            nn.ReLU(),\n",
    "            nn.Linear(32, 10),\n",
    "        )\n",
    "\n",
    "    def forward(self, x: torch.Tensor) -> torch.Tensor:\n",
    "        x = self.scale(x)\n",
    "        x = self.flatten(x)\n",
    "        logits = self.linear_relu_stack(x)\n",
    "        return logits"
   ]
  },
  {
   "cell_type": "code",
   "execution_count": 23,
   "metadata": {},
   "outputs": [
    {
     "data": {
      "text/plain": [
       "MLP(\n",
       "  (scale): Scale()\n",
       "  (flatten): Flatten(start_dim=1, end_dim=-1)\n",
       "  (linear_relu_stack): Sequential(\n",
       "    (0): Linear(in_features=784, out_features=128, bias=True)\n",
       "    (1): ReLU()\n",
       "    (2): Linear(in_features=128, out_features=64, bias=True)\n",
       "    (3): ReLU()\n",
       "    (4): Linear(in_features=64, out_features=32, bias=True)\n",
       "    (5): ReLU()\n",
       "    (6): Linear(in_features=32, out_features=10, bias=True)\n",
       "  )\n",
       ")"
      ]
     },
     "execution_count": 23,
     "metadata": {},
     "output_type": "execute_result"
    }
   ],
   "source": [
    "model = MLP()\n",
    "\n",
    "model"
   ]
  },
  {
   "cell_type": "markdown",
   "metadata": {},
   "source": [
    "# Training"
   ]
  },
  {
   "cell_type": "code",
   "execution_count": 28,
   "metadata": {},
   "outputs": [
    {
     "data": {
      "application/vnd.jupyter.widget-view+json": {
       "model_id": "4a0085f14c1a4e3ebbd85c1c9d9a0cd1",
       "version_major": 2,
       "version_minor": 0
      },
      "text/plain": [
       "VBox(children=(Label(value='Waiting for wandb.init()...\\r'), FloatProgress(value=0.011112994188887467, max=1.0…"
      ]
     },
     "metadata": {},
     "output_type": "display_data"
    },
    {
     "data": {
      "text/html": [
       "Tracking run with wandb version 0.19.2"
      ],
      "text/plain": [
       "<IPython.core.display.HTML object>"
      ]
     },
     "metadata": {},
     "output_type": "display_data"
    },
    {
     "data": {
      "text/html": [
       "Run data is saved locally in <code>/workspaces/mnist/nbs/wandb/run-20250210_192034-fm2qzkbw</code>"
      ],
      "text/plain": [
       "<IPython.core.display.HTML object>"
      ]
     },
     "metadata": {},
     "output_type": "display_data"
    },
    {
     "data": {
      "text/html": [
       "Syncing run <strong><a href='https://wandb.ai/cloudbend/mnist/runs/fm2qzkbw' target=\"_blank\">expert-leaf-18</a></strong> to <a href='https://wandb.ai/cloudbend/mnist' target=\"_blank\">Weights & Biases</a> (<a href='https://wandb.me/developer-guide' target=\"_blank\">docs</a>)<br>"
      ],
      "text/plain": [
       "<IPython.core.display.HTML object>"
      ]
     },
     "metadata": {},
     "output_type": "display_data"
    },
    {
     "data": {
      "text/html": [
       " View project at <a href='https://wandb.ai/cloudbend/mnist' target=\"_blank\">https://wandb.ai/cloudbend/mnist</a>"
      ],
      "text/plain": [
       "<IPython.core.display.HTML object>"
      ]
     },
     "metadata": {},
     "output_type": "display_data"
    },
    {
     "data": {
      "text/html": [
       " View run at <a href='https://wandb.ai/cloudbend/mnist/runs/fm2qzkbw' target=\"_blank\">https://wandb.ai/cloudbend/mnist/runs/fm2qzkbw</a>"
      ],
      "text/plain": [
       "<IPython.core.display.HTML object>"
      ]
     },
     "metadata": {},
     "output_type": "display_data"
    }
   ],
   "source": [
    "import wandb\n",
    "\n",
    "run = wandb.init(project=\"mnist\", config={\n",
    "    \"architecture\": \"mlp\",\n",
    "    \"epochs\": 8,\n",
    "    \"batch_size\": 64,\n",
    "    \"learning_rate\": 1e-3,\n",
    "})"
   ]
  },
  {
   "cell_type": "code",
   "execution_count": 25,
   "metadata": {},
   "outputs": [],
   "source": [
    "import torch\n",
    "import torch.nn as nn\n",
    "from torch.utils.data import DataLoader\n",
    "from typing import TypedDict\n",
    "\n",
    "class LoopMetrics(TypedDict):\n",
    "    accuracy: float\n",
    "    loss: float\n",
    "\n",
    "def train_loop(model: nn.Module, dataloader: DataLoader, loss_fn: nn.Module, optimizer: torch.optim.Optimizer) -> LoopMetrics:\n",
    "    model = model.to(device).train()\n",
    "    size = len(dataloader.dataset)\n",
    "    train_loss, correct = 0, 0\n",
    "    for batch, (X, y) in enumerate(dataloader):\n",
    "        X, y = X.to(device), y.to(device)\n",
    "        X = X.squeeze()\n",
    "\n",
    "        pred = model(X)\n",
    "        loss = loss_fn(pred, y)\n",
    "\n",
    "        train_loss += loss.item()\n",
    "        run.log({\"train_batch_loss\": loss.item()})\n",
    "\n",
    "        optimizer.zero_grad()\n",
    "        loss.backward()\n",
    "        optimizer.step()\n",
    "        \n",
    "        correct += (\n",
    "            (pred.argmax(1) == y)\n",
    "            .type(torch.float)\n",
    "            .sum()\n",
    "            .item()\n",
    "        )\n",
    "\n",
    "        if batch % 100 == 0:\n",
    "            loss, current = loss.item(), batch * len(X)\n",
    "            print(f\"loss: {loss:>7f}  [{current:>5d}/{size:>5d}]\")\n",
    "            \n",
    "    accuracy = correct / size\n",
    "    train_loss /= size\n",
    "\n",
    "    print(f\"Train Error: \\n Accuracy: {100 * accuracy:>0.1f}%, Avg loss: {train_loss:>8f} \\n\")\n",
    "\n",
    "    return {\n",
    "        \"accuracy\": accuracy,\n",
    "        \"loss\": train_loss,\n",
    "    }\n",
    "\n",
    "@torch.no_grad\n",
    "def test_loop(model: nn.Module, dataloader: DataLoader, loss_fn: nn.Module) -> LoopMetrics:\n",
    "    model = model.to(device).eval()\n",
    "    size = len(dataloader.dataset)\n",
    "    test_loss, correct = 0, 0\n",
    "\n",
    "    for X, y in dataloader:\n",
    "        X, y = X.to(device), y.to(device)\n",
    "        X = X.squeeze()\n",
    "\n",
    "        pred = model(X)\n",
    "        loss = loss_fn(pred, y)\n",
    "    \n",
    "        test_loss += loss.item()\n",
    "    \n",
    "        correct += (\n",
    "            (pred.argmax(1) == y)\n",
    "            .type(torch.float)\n",
    "            .sum()\n",
    "            .item()\n",
    "        )\n",
    "\n",
    "    test_loss /= size\n",
    "    accuracy = correct / size\n",
    "    print(f\"Test Error: \\n Accuracy: {100 * accuracy:>0.1f}%, Avg loss: {test_loss:>8f} \\n\")\n",
    "\n",
    "    return {\n",
    "        \"accuracy\": accuracy,\n",
    "        \"loss\": test_loss,\n",
    "    }"
   ]
  },
  {
   "cell_type": "code",
   "execution_count": null,
   "metadata": {},
   "outputs": [],
   "source": []
  },
  {
   "cell_type": "code",
   "execution_count": 29,
   "metadata": {},
   "outputs": [
    {
     "name": "stdout",
     "output_type": "stream",
     "text": [
      "Epoch 1\n",
      "-------------------------------\n",
      "loss: 2.306723  [    0/60000]\n",
      "loss: 2.289753  [ 6400/60000]\n",
      "loss: 1.852922  [12800/60000]\n",
      "loss: 1.698037  [19200/60000]\n",
      "loss: 1.565181  [25600/60000]\n",
      "loss: 1.550838  [32000/60000]\n",
      "loss: 1.110758  [38400/60000]\n",
      "loss: 1.119117  [44800/60000]\n",
      "loss: 1.031192  [51200/60000]\n",
      "loss: 0.889358  [57600/60000]\n",
      "Train Error: \n",
      " Accuracy: 41.4%, Avg loss: 0.023709 \n",
      "\n",
      "Test Error: \n",
      " Accuracy: 59.5%, Avg loss: 0.016755 \n",
      "\n",
      "Epoch 2\n",
      "-------------------------------\n",
      "loss: 1.018343  [    0/60000]\n",
      "loss: 0.926341  [ 6400/60000]\n",
      "loss: 1.018430  [12800/60000]\n",
      "loss: 1.056577  [19200/60000]\n",
      "loss: 0.766785  [25600/60000]\n",
      "loss: 1.005056  [32000/60000]\n",
      "loss: 0.843413  [38400/60000]\n",
      "loss: 0.847720  [44800/60000]\n",
      "loss: 0.633220  [51200/60000]\n",
      "loss: 0.742010  [57600/60000]\n",
      "Train Error: \n",
      " Accuracy: 71.0%, Avg loss: 0.013195 \n",
      "\n",
      "Test Error: \n",
      " Accuracy: 79.9%, Avg loss: 0.010100 \n",
      "\n",
      "Epoch 3\n",
      "-------------------------------\n",
      "loss: 0.775520  [    0/60000]\n",
      "loss: 0.392476  [ 6400/60000]\n",
      "loss: 0.546958  [12800/60000]\n",
      "loss: 0.449287  [19200/60000]\n",
      "loss: 0.868988  [25600/60000]\n",
      "loss: 0.289311  [32000/60000]\n",
      "loss: 0.659832  [38400/60000]\n",
      "loss: 0.650873  [44800/60000]\n",
      "loss: 0.570674  [51200/60000]\n",
      "loss: 0.721135  [57600/60000]\n",
      "Train Error: \n",
      " Accuracy: 82.3%, Avg loss: 0.008973 \n",
      "\n",
      "Test Error: \n",
      " Accuracy: 84.9%, Avg loss: 0.008113 \n",
      "\n",
      "Epoch 4\n",
      "-------------------------------\n",
      "loss: 0.576756  [    0/60000]\n",
      "loss: 0.552505  [ 6400/60000]\n",
      "loss: 0.770269  [12800/60000]\n",
      "loss: 0.326839  [19200/60000]\n",
      "loss: 0.617332  [25600/60000]\n",
      "loss: 0.374558  [32000/60000]\n",
      "loss: 0.505424  [38400/60000]\n",
      "loss: 0.632197  [44800/60000]\n",
      "loss: 0.544799  [51200/60000]\n",
      "loss: 0.386072  [57600/60000]\n",
      "Train Error: \n",
      " Accuracy: 86.3%, Avg loss: 0.007296 \n",
      "\n",
      "Test Error: \n",
      " Accuracy: 87.3%, Avg loss: 0.006786 \n",
      "\n",
      "Epoch 5\n",
      "-------------------------------\n",
      "loss: 0.370040  [    0/60000]\n",
      "loss: 0.306642  [ 6400/60000]\n",
      "loss: 0.500927  [12800/60000]\n",
      "loss: 0.576923  [19200/60000]\n",
      "loss: 0.389577  [25600/60000]\n",
      "loss: 0.185001  [32000/60000]\n",
      "loss: 0.319357  [38400/60000]\n",
      "loss: 0.434709  [44800/60000]\n",
      "loss: 0.367598  [51200/60000]\n",
      "loss: 0.413099  [57600/60000]\n",
      "Train Error: \n",
      " Accuracy: 88.6%, Avg loss: 0.006082 \n",
      "\n",
      "Test Error: \n",
      " Accuracy: 88.8%, Avg loss: 0.005874 \n",
      "\n",
      "Epoch 6\n",
      "-------------------------------\n",
      "loss: 0.648416  [    0/60000]\n",
      "loss: 0.466070  [ 6400/60000]\n",
      "loss: 0.247221  [12800/60000]\n",
      "loss: 0.252123  [19200/60000]\n",
      "loss: 0.249503  [25600/60000]\n",
      "loss: 0.423197  [32000/60000]\n",
      "loss: 0.273603  [38400/60000]\n",
      "loss: 0.177600  [44800/60000]\n",
      "loss: 0.414681  [51200/60000]\n",
      "loss: 0.265583  [57600/60000]\n",
      "Train Error: \n",
      " Accuracy: 90.4%, Avg loss: 0.005154 \n",
      "\n",
      "Test Error: \n",
      " Accuracy: 91.0%, Avg loss: 0.004933 \n",
      "\n",
      "Epoch 7\n",
      "-------------------------------\n",
      "loss: 0.238132  [    0/60000]\n",
      "loss: 0.199400  [ 6400/60000]\n",
      "loss: 0.332445  [12800/60000]\n",
      "loss: 0.480947  [19200/60000]\n",
      "loss: 0.287764  [25600/60000]\n",
      "loss: 0.184689  [32000/60000]\n",
      "loss: 0.269767  [38400/60000]\n",
      "loss: 0.328313  [44800/60000]\n",
      "loss: 0.185363  [51200/60000]\n",
      "loss: 0.299507  [57600/60000]\n",
      "Train Error: \n",
      " Accuracy: 91.5%, Avg loss: 0.004465 \n",
      "\n",
      "Test Error: \n",
      " Accuracy: 92.0%, Avg loss: 0.004268 \n",
      "\n",
      "Epoch 8\n",
      "-------------------------------\n",
      "loss: 0.192431  [    0/60000]\n",
      "loss: 0.485404  [ 6400/60000]\n",
      "loss: 0.205414  [12800/60000]\n",
      "loss: 0.421785  [19200/60000]\n",
      "loss: 0.289831  [25600/60000]\n",
      "loss: 0.242144  [32000/60000]\n",
      "loss: 0.356538  [38400/60000]\n",
      "loss: 0.186919  [44800/60000]\n",
      "loss: 0.296609  [51200/60000]\n",
      "loss: 0.275662  [57600/60000]\n",
      "Train Error: \n",
      " Accuracy: 92.4%, Avg loss: 0.003989 \n",
      "\n",
      "Test Error: \n",
      " Accuracy: 92.6%, Avg loss: 0.003899 \n",
      "\n"
     ]
    },
    {
     "data": {
      "text/html": [],
      "text/plain": [
       "<IPython.core.display.HTML object>"
      ]
     },
     "metadata": {},
     "output_type": "display_data"
    },
    {
     "data": {
      "text/html": [
       "<br>    <style><br>        .wandb-row {<br>            display: flex;<br>            flex-direction: row;<br>            flex-wrap: wrap;<br>            justify-content: flex-start;<br>            width: 100%;<br>        }<br>        .wandb-col {<br>            display: flex;<br>            flex-direction: column;<br>            flex-basis: 100%;<br>            flex: 1;<br>            padding: 10px;<br>        }<br>    </style><br><div class=\"wandb-row\"><div class=\"wandb-col\"><h3>Run history:</h3><br/><table class=\"wandb\"><tr><td>test_epoch_accuracy</td><td>▁▅▆▇▇███</td></tr><tr><td>test_epoch_loss</td><td>█▄▃▃▂▂▁▁</td></tr><tr><td>train_batch_loss</td><td>█▇█▅▄▃▄▃▂▂▃▂▄▂▂▂▂▂▃▂▃▃▂▂▃▂▂▂▁▃▂▂▁▁▂▂▁▁▁▁</td></tr><tr><td>train_epoch_accuracy</td><td>▁▅▇▇▇███</td></tr><tr><td>train_epoch_loss</td><td>█▄▃▂▂▁▁▁</td></tr></table><br/></div><div class=\"wandb-col\"><h3>Run summary:</h3><br/><table class=\"wandb\"><tr><td>test_epoch_accuracy</td><td>0.9262</td></tr><tr><td>test_epoch_loss</td><td>0.0039</td></tr><tr><td>train_batch_loss</td><td>0.19177</td></tr><tr><td>train_epoch_accuracy</td><td>0.92397</td></tr><tr><td>train_epoch_loss</td><td>0.00399</td></tr></table><br/></div></div>"
      ],
      "text/plain": [
       "<IPython.core.display.HTML object>"
      ]
     },
     "metadata": {},
     "output_type": "display_data"
    },
    {
     "data": {
      "text/html": [
       " View run <strong style=\"color:#cdcd00\">expert-leaf-18</strong> at: <a href='https://wandb.ai/cloudbend/mnist/runs/fm2qzkbw' target=\"_blank\">https://wandb.ai/cloudbend/mnist/runs/fm2qzkbw</a><br> View project at: <a href='https://wandb.ai/cloudbend/mnist' target=\"_blank\">https://wandb.ai/cloudbend/mnist</a><br>Synced 5 W&B file(s), 0 media file(s), 0 artifact file(s) and 0 other file(s)"
      ],
      "text/plain": [
       "<IPython.core.display.HTML object>"
      ]
     },
     "metadata": {},
     "output_type": "display_data"
    },
    {
     "data": {
      "text/html": [
       "Find logs at: <code>./wandb/run-20250210_192034-fm2qzkbw/logs</code>"
      ],
      "text/plain": [
       "<IPython.core.display.HTML object>"
      ]
     },
     "metadata": {},
     "output_type": "display_data"
    }
   ],
   "source": [
    "import torch\n",
    "import torch.nn as nn\n",
    "from torch.utils.data import DataLoader\n",
    "\n",
    "train_dataloader = DataLoader(train_ds, batch_size=run.config.batch_size, shuffle=True, generator=generator)\n",
    "dev_dataloader = DataLoader(dev_ds, batch_size=run.config.batch_size, shuffle=False)\n",
    "\n",
    "model = MLP()\n",
    "\n",
    "run.watch(model)\n",
    "\n",
    "loss_fn = nn.CrossEntropyLoss()\n",
    "optimizer = torch.optim.Adam(model.parameters(), lr=run.config.learning_rate)\n",
    "\n",
    "for t in range(run.config.epochs):\n",
    "    print(f\"Epoch {t+1}\\n-------------------------------\")\n",
    "    train_metrics = train_loop(model, train_dataloader, loss_fn, optimizer)\n",
    "    test_metrics = test_loop(model, dev_dataloader, loss_fn)\n",
    "    run.log({\n",
    "        \"train_epoch_accuracy\": train_metrics[\"accuracy\"],\n",
    "        \"train_epoch_loss\": train_metrics[\"loss\"],\n",
    "        \"test_epoch_accuracy\": test_metrics[\"accuracy\"],\n",
    "        \"test_epoch_loss\": test_metrics[\"loss\"],\n",
    "    })\n",
    "\n",
    "run.finish()"
   ]
  },
  {
   "cell_type": "code",
   "execution_count": null,
   "metadata": {},
   "outputs": [],
   "source": []
  }
 ],
 "metadata": {
  "kernelspec": {
   "display_name": "Python 3",
   "language": "python",
   "name": "python3"
  },
  "language_info": {
   "codemirror_mode": {
    "name": "ipython",
    "version": 3
   },
   "file_extension": ".py",
   "mimetype": "text/x-python",
   "name": "python",
   "nbconvert_exporter": "python",
   "pygments_lexer": "ipython3",
   "version": "3.12.8"
  }
 },
 "nbformat": 4,
 "nbformat_minor": 2
}
