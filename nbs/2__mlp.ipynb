{
 "cells": [
  {
   "cell_type": "code",
   "execution_count": 1,
   "metadata": {},
   "outputs": [
    {
     "data": {
      "text/plain": [
       "PosixPath('/workspaces/mnist/data')"
      ]
     },
     "execution_count": 1,
     "metadata": {},
     "output_type": "execute_result"
    }
   ],
   "source": [
    "from pathlib import Path\n",
    "\n",
    "DATA_DIR = Path.cwd().parent / \"data\"\n",
    "\n",
    "DATA_DIR"
   ]
  },
  {
   "cell_type": "code",
   "execution_count": 2,
   "metadata": {},
   "outputs": [
    {
     "data": {
      "text/plain": [
       "device(type='cuda')"
      ]
     },
     "execution_count": 2,
     "metadata": {},
     "output_type": "execute_result"
    }
   ],
   "source": [
    "import torch\n",
    "\n",
    "device = torch.device(\"cuda\" if torch.cuda.is_available() else \"cpu\")\n",
    "\n",
    "if torch.cuda.is_available():\n",
    "    torch.set_float32_matmul_precision('high')\n",
    "\n",
    "device"
   ]
  },
  {
   "cell_type": "code",
   "execution_count": 3,
   "metadata": {},
   "outputs": [],
   "source": [
    "import torch\n",
    "\n",
    "generator = torch.Generator().manual_seed(42)"
   ]
  },
  {
   "cell_type": "markdown",
   "metadata": {},
   "source": [
    "# Splits"
   ]
  },
  {
   "cell_type": "code",
   "execution_count": 4,
   "metadata": {},
   "outputs": [
    {
     "data": {
      "text/plain": [
       "Dataset MNIST\n",
       "    Number of datapoints: 60000\n",
       "    Root location: /workspaces/mnist/data/train\n",
       "    Split: Train\n",
       "    StandardTransform\n",
       "Transform: ToTensor()"
      ]
     },
     "execution_count": 4,
     "metadata": {},
     "output_type": "execute_result"
    }
   ],
   "source": [
    "from torchvision.datasets import MNIST\n",
    "from torchvision.transforms import ToTensor\n",
    "\n",
    "train_ds = MNIST(\n",
    "    root=DATA_DIR / \"train\",\n",
    "    train=True,\n",
    "    download=True,\n",
    "    transform=ToTensor(),\n",
    ")\n",
    "\n",
    "train_ds"
   ]
  },
  {
   "cell_type": "code",
   "execution_count": 5,
   "metadata": {},
   "outputs": [
    {
     "data": {
      "text/plain": [
       "(50000, 10000)"
      ]
     },
     "execution_count": 5,
     "metadata": {},
     "output_type": "execute_result"
    }
   ],
   "source": [
    "from torch.utils.data import random_split\n",
    "\n",
    "DEV_SIZE = 10_000\n",
    "\n",
    "train_ds, dev_ds = random_split(\n",
    "    train_ds,\n",
    "    [len(train_ds) - DEV_SIZE, DEV_SIZE],\n",
    "    generator=generator,\n",
    ")\n",
    "\n",
    "len(train_ds), len(dev_ds)"
   ]
  },
  {
   "cell_type": "markdown",
   "metadata": {},
   "source": [
    "# Definition"
   ]
  },
  {
   "cell_type": "code",
   "execution_count": 49,
   "metadata": {},
   "outputs": [],
   "source": [
    "import torch\n",
    "import torch.nn as nn\n",
    "\n",
    "@torch.compile\n",
    "class MLP(nn.Module):\n",
    "    def __init__(self):\n",
    "        super().__init__()\n",
    "        self.flatten = nn.Flatten(1, -1) # (B, 28, 28) -> (B, 28*28)\n",
    "        self.linear_relu_stack = nn.Sequential(\n",
    "            nn.BatchNorm1d(28*28),\n",
    "\n",
    "            nn.Linear(28*28, 2048),\n",
    "            nn.BatchNorm1d(2048),\n",
    "            nn.ReLU(),\n",
    "            nn.Dropout(0.5),\n",
    "\n",
    "            nn.Linear(2048, 1024),\n",
    "            nn.BatchNorm1d(1024),\n",
    "            nn.ReLU(),\n",
    "            nn.Dropout(0.5),\n",
    "\n",
    "            nn.Linear(1024, 512),\n",
    "            nn.BatchNorm1d(512),\n",
    "            nn.ReLU(),\n",
    "            nn.Dropout(0.5),\n",
    "\n",
    "            nn.Linear(512, 128),\n",
    "            nn.BatchNorm1d(128),\n",
    "            nn.ReLU(),\n",
    "            nn.Dropout(0.5),\n",
    "            \n",
    "            nn.Linear(128, 10),\n",
    "        )\n",
    "\n",
    "    def forward(self, x: torch.Tensor) -> torch.Tensor:\n",
    "        x = self.flatten(x)\n",
    "        logits = self.linear_relu_stack(x)\n",
    "        return logits"
   ]
  },
  {
   "cell_type": "code",
   "execution_count": 50,
   "metadata": {},
   "outputs": [
    {
     "data": {
      "text/plain": [
       "MLP(\n",
       "  (flatten): Flatten(start_dim=1, end_dim=-1)\n",
       "  (linear_relu_stack): Sequential(\n",
       "    (0): BatchNorm1d(784, eps=1e-05, momentum=0.1, affine=True, track_running_stats=True)\n",
       "    (1): Linear(in_features=784, out_features=2048, bias=True)\n",
       "    (2): BatchNorm1d(2048, eps=1e-05, momentum=0.1, affine=True, track_running_stats=True)\n",
       "    (3): ReLU()\n",
       "    (4): Dropout(p=0.5, inplace=False)\n",
       "    (5): Linear(in_features=2048, out_features=1024, bias=True)\n",
       "    (6): BatchNorm1d(1024, eps=1e-05, momentum=0.1, affine=True, track_running_stats=True)\n",
       "    (7): ReLU()\n",
       "    (8): Dropout(p=0.5, inplace=False)\n",
       "    (9): Linear(in_features=1024, out_features=512, bias=True)\n",
       "    (10): BatchNorm1d(512, eps=1e-05, momentum=0.1, affine=True, track_running_stats=True)\n",
       "    (11): ReLU()\n",
       "    (12): Dropout(p=0.5, inplace=False)\n",
       "    (13): Linear(in_features=512, out_features=128, bias=True)\n",
       "    (14): BatchNorm1d(128, eps=1e-05, momentum=0.1, affine=True, track_running_stats=True)\n",
       "    (15): ReLU()\n",
       "    (16): Dropout(p=0.5, inplace=False)\n",
       "    (17): Linear(in_features=128, out_features=10, bias=True)\n",
       "  )\n",
       ")"
      ]
     },
     "execution_count": 50,
     "metadata": {},
     "output_type": "execute_result"
    }
   ],
   "source": [
    "model = MLP()\n",
    "\n",
    "model"
   ]
  },
  {
   "cell_type": "markdown",
   "metadata": {},
   "source": [
    "# Training"
   ]
  },
  {
   "cell_type": "code",
   "execution_count": 51,
   "metadata": {},
   "outputs": [
    {
     "data": {
      "text/html": [
       "Tracking run with wandb version 0.19.2"
      ],
      "text/plain": [
       "<IPython.core.display.HTML object>"
      ]
     },
     "metadata": {},
     "output_type": "display_data"
    },
    {
     "data": {
      "text/html": [
       "Run data is saved locally in <code>/workspaces/mnist/nbs/wandb/run-20250211_190243-vaio0to5</code>"
      ],
      "text/plain": [
       "<IPython.core.display.HTML object>"
      ]
     },
     "metadata": {},
     "output_type": "display_data"
    },
    {
     "data": {
      "text/html": [
       "Syncing run <strong><a href='https://wandb.ai/cloudbend/mnist/runs/vaio0to5' target=\"_blank\">happy-waterfall-44</a></strong> to <a href='https://wandb.ai/cloudbend/mnist' target=\"_blank\">Weights & Biases</a> (<a href='https://wandb.me/developer-guide' target=\"_blank\">docs</a>)<br>"
      ],
      "text/plain": [
       "<IPython.core.display.HTML object>"
      ]
     },
     "metadata": {},
     "output_type": "display_data"
    },
    {
     "data": {
      "text/html": [
       " View project at <a href='https://wandb.ai/cloudbend/mnist' target=\"_blank\">https://wandb.ai/cloudbend/mnist</a>"
      ],
      "text/plain": [
       "<IPython.core.display.HTML object>"
      ]
     },
     "metadata": {},
     "output_type": "display_data"
    },
    {
     "data": {
      "text/html": [
       " View run at <a href='https://wandb.ai/cloudbend/mnist/runs/vaio0to5' target=\"_blank\">https://wandb.ai/cloudbend/mnist/runs/vaio0to5</a>"
      ],
      "text/plain": [
       "<IPython.core.display.HTML object>"
      ]
     },
     "metadata": {},
     "output_type": "display_data"
    }
   ],
   "source": [
    "import wandb\n",
    "\n",
    "run = wandb.init(project=\"mnist\", config={\n",
    "    \"architecture\": \"mlp\",\n",
    "    \"epochs\": 8,\n",
    "    \"batch_size\": 64,\n",
    "    \"learning_rate\": 1e-3,\n",
    "})"
   ]
  },
  {
   "cell_type": "code",
   "execution_count": 52,
   "metadata": {},
   "outputs": [],
   "source": [
    "import torch\n",
    "import torch.nn as nn\n",
    "from torch.utils.data import DataLoader\n",
    "from typing import TypedDict\n",
    "\n",
    "class LoopMetrics(TypedDict):\n",
    "    accuracy: float\n",
    "    loss: float\n",
    "\n",
    "def train_loop(model: nn.Module, dataloader: DataLoader, loss_fn: nn.Module, optimizer: torch.optim.Optimizer) -> LoopMetrics:\n",
    "    model = model.to(device).train()\n",
    "    size = len(dataloader.dataset)\n",
    "    train_loss, correct = 0, 0\n",
    "    for batch, (X, y) in enumerate(dataloader):\n",
    "        X, y = X.to(device), y.to(device)\n",
    "        X = X.squeeze()\n",
    "\n",
    "        pred = model(X)\n",
    "        loss = loss_fn(pred, y)\n",
    "\n",
    "        train_loss += loss.item()\n",
    "        run.log({\"train_batch_loss\": loss.item()})\n",
    "\n",
    "        optimizer.zero_grad()\n",
    "        loss.backward()\n",
    "        optimizer.step()\n",
    "        \n",
    "        correct += (\n",
    "            (pred.argmax(1) == y)\n",
    "            .type(torch.float)\n",
    "            .sum()\n",
    "            .item()\n",
    "        )\n",
    "\n",
    "        if batch % 100 == 0:\n",
    "            loss, current = loss.item(), batch * len(X)\n",
    "            print(f\"loss: {loss:>7f}  [{current:>5d}/{size:>5d}]\")\n",
    "            \n",
    "    accuracy = correct / size\n",
    "    train_loss /= size\n",
    "\n",
    "    print(f\"Train Error: \\n Accuracy: {100 * accuracy:>0.1f}%, Avg loss: {train_loss:>8f} \\n\")\n",
    "\n",
    "    return {\n",
    "        \"accuracy\": accuracy,\n",
    "        \"loss\": train_loss,\n",
    "    }\n",
    "\n",
    "@torch.no_grad\n",
    "def test_loop(model: nn.Module, dataloader: DataLoader, loss_fn: nn.Module) -> LoopMetrics:\n",
    "    model = model.to(device).eval()\n",
    "    size = len(dataloader.dataset)\n",
    "    test_loss, correct = 0, 0\n",
    "\n",
    "    for X, y in dataloader:\n",
    "        X, y = X.to(device), y.to(device)\n",
    "        X = X.squeeze()\n",
    "\n",
    "        pred = model(X)\n",
    "        loss = loss_fn(pred, y)\n",
    "    \n",
    "        test_loss += loss.item()\n",
    "    \n",
    "        correct += (\n",
    "            (pred.argmax(1) == y)\n",
    "            .type(torch.float)\n",
    "            .sum()\n",
    "            .item()\n",
    "        )\n",
    "\n",
    "    test_loss /= size\n",
    "    accuracy = correct / size\n",
    "    print(f\"Test Error: \\n Accuracy: {100 * accuracy:>0.1f}%, Avg loss: {test_loss:>8f} \\n\")\n",
    "\n",
    "    return {\n",
    "        \"accuracy\": accuracy,\n",
    "        \"loss\": test_loss,\n",
    "    }"
   ]
  },
  {
   "cell_type": "code",
   "execution_count": 53,
   "metadata": {},
   "outputs": [
    {
     "name": "stdout",
     "output_type": "stream",
     "text": [
      "Epoch 1\n",
      "-------------------------------\n",
      "loss: 2.493058  [    0/50000]\n",
      "loss: 0.548954  [ 6400/50000]\n",
      "loss: 0.791900  [12800/50000]\n",
      "loss: 0.237668  [19200/50000]\n",
      "loss: 0.327181  [25600/50000]\n",
      "loss: 0.260748  [32000/50000]\n",
      "loss: 0.216443  [38400/50000]\n",
      "loss: 0.248482  [44800/50000]\n",
      "Train Error: \n",
      " Accuracy: 89.1%, Avg loss: 0.006106 \n",
      "\n",
      "Test Error: \n",
      " Accuracy: 94.9%, Avg loss: 0.002956 \n",
      "\n",
      "Epoch 2\n",
      "-------------------------------\n",
      "loss: 0.193191  [    0/50000]\n",
      "loss: 0.181885  [ 6400/50000]\n",
      "loss: 0.102930  [12800/50000]\n",
      "loss: 0.119372  [19200/50000]\n",
      "loss: 0.211668  [25600/50000]\n",
      "loss: 0.159566  [32000/50000]\n",
      "loss: 0.174050  [38400/50000]\n",
      "loss: 0.061767  [44800/50000]\n",
      "Train Error: \n",
      " Accuracy: 94.1%, Avg loss: 0.003254 \n",
      "\n",
      "Test Error: \n",
      " Accuracy: 96.0%, Avg loss: 0.002752 \n",
      "\n",
      "Epoch 3\n",
      "-------------------------------\n",
      "loss: 0.163256  [    0/50000]\n",
      "loss: 0.131595  [ 6400/50000]\n",
      "loss: 0.151804  [12800/50000]\n",
      "loss: 0.074652  [19200/50000]\n",
      "loss: 0.156065  [25600/50000]\n",
      "loss: 0.203661  [32000/50000]\n",
      "loss: 0.137407  [38400/50000]\n",
      "loss: 0.194998  [44800/50000]\n",
      "Train Error: \n",
      " Accuracy: 95.3%, Avg loss: 0.002604 \n",
      "\n",
      "Test Error: \n",
      " Accuracy: 95.8%, Avg loss: 0.003026 \n",
      "\n",
      "Epoch 4\n",
      "-------------------------------\n",
      "loss: 0.073012  [    0/50000]\n",
      "loss: 0.185466  [ 6400/50000]\n",
      "loss: 0.042164  [12800/50000]\n",
      "loss: 0.080852  [19200/50000]\n",
      "loss: 0.114265  [25600/50000]\n",
      "loss: 0.098899  [32000/50000]\n",
      "loss: 0.116410  [38400/50000]\n",
      "loss: 0.110295  [44800/50000]\n",
      "Train Error: \n",
      " Accuracy: 95.9%, Avg loss: 0.002235 \n",
      "\n",
      "Test Error: \n",
      " Accuracy: 96.4%, Avg loss: 0.003251 \n",
      "\n",
      "Epoch 5\n",
      "-------------------------------\n",
      "loss: 0.051372  [    0/50000]\n",
      "loss: 0.053667  [ 6400/50000]\n",
      "loss: 0.085088  [12800/50000]\n",
      "loss: 0.103399  [19200/50000]\n",
      "loss: 0.045283  [25600/50000]\n",
      "loss: 0.086665  [32000/50000]\n",
      "loss: 0.090755  [38400/50000]\n",
      "loss: 0.213209  [44800/50000]\n",
      "Train Error: \n",
      " Accuracy: 96.4%, Avg loss: 0.001913 \n",
      "\n",
      "Test Error: \n",
      " Accuracy: 96.9%, Avg loss: 0.002954 \n",
      "\n",
      "Epoch 6\n",
      "-------------------------------\n",
      "loss: 0.184999  [    0/50000]\n",
      "loss: 0.023125  [ 6400/50000]\n",
      "loss: 0.147337  [12800/50000]\n",
      "loss: 0.216651  [19200/50000]\n",
      "loss: 0.053843  [25600/50000]\n",
      "loss: 0.065548  [32000/50000]\n",
      "loss: 0.069150  [38400/50000]\n",
      "loss: 0.058588  [44800/50000]\n",
      "Train Error: \n",
      " Accuracy: 96.5%, Avg loss: 0.001873 \n",
      "\n",
      "Test Error: \n",
      " Accuracy: 96.8%, Avg loss: 0.003103 \n",
      "\n",
      "Epoch 7\n",
      "-------------------------------\n",
      "loss: 0.258682  [    0/50000]\n",
      "loss: 0.018513  [ 6400/50000]\n",
      "loss: 0.155878  [12800/50000]\n",
      "loss: 0.033695  [19200/50000]\n",
      "loss: 0.100632  [25600/50000]\n",
      "loss: 0.110515  [32000/50000]\n",
      "loss: 0.121737  [38400/50000]\n",
      "loss: 0.148963  [44800/50000]\n",
      "Train Error: \n",
      " Accuracy: 97.0%, Avg loss: 0.001637 \n",
      "\n",
      "Test Error: \n",
      " Accuracy: 96.9%, Avg loss: 0.002914 \n",
      "\n",
      "Epoch 8\n",
      "-------------------------------\n",
      "loss: 0.019333  [    0/50000]\n",
      "loss: 0.064652  [ 6400/50000]\n",
      "loss: 0.023696  [12800/50000]\n",
      "loss: 0.073751  [19200/50000]\n",
      "loss: 0.114862  [25600/50000]\n",
      "loss: 0.076507  [32000/50000]\n",
      "loss: 0.072515  [38400/50000]\n",
      "loss: 0.005803  [44800/50000]\n",
      "Train Error: \n",
      " Accuracy: 97.3%, Avg loss: 0.001472 \n",
      "\n",
      "Test Error: \n",
      " Accuracy: 97.0%, Avg loss: 0.003863 \n",
      "\n"
     ]
    },
    {
     "data": {
      "text/html": [],
      "text/plain": [
       "<IPython.core.display.HTML object>"
      ]
     },
     "metadata": {},
     "output_type": "display_data"
    },
    {
     "data": {
      "text/html": [
       "<br>    <style><br>        .wandb-row {<br>            display: flex;<br>            flex-direction: row;<br>            flex-wrap: wrap;<br>            justify-content: flex-start;<br>            width: 100%;<br>        }<br>        .wandb-col {<br>            display: flex;<br>            flex-direction: column;<br>            flex-basis: 100%;<br>            flex: 1;<br>            padding: 10px;<br>        }<br>    </style><br><div class=\"wandb-row\"><div class=\"wandb-col\"><h3>Run history:</h3><br/><table class=\"wandb\"><tr><td>test_epoch_accuracy</td><td>▁▄▄▆▇▇██</td></tr><tr><td>test_epoch_loss</td><td>▂▁▃▄▂▃▂█</td></tr><tr><td>train_batch_loss</td><td>█▄▅▃▄▄▃▂▄▅▂▂▅▃▃▂▃▂▂▁▂▃▄▁▂▁▂▂▂▂▂▃▂▁▁▂▂▂▂▂</td></tr><tr><td>train_epoch_accuracy</td><td>▁▅▆▇▇▇██</td></tr><tr><td>train_epoch_loss</td><td>█▄▃▂▂▂▁▁</td></tr></table><br/></div><div class=\"wandb-col\"><h3>Run summary:</h3><br/><table class=\"wandb\"><tr><td>test_epoch_accuracy</td><td>0.97</td></tr><tr><td>test_epoch_loss</td><td>0.00386</td></tr><tr><td>train_batch_loss</td><td>0.60108</td></tr><tr><td>train_epoch_accuracy</td><td>0.97308</td></tr><tr><td>train_epoch_loss</td><td>0.00147</td></tr></table><br/></div></div>"
      ],
      "text/plain": [
       "<IPython.core.display.HTML object>"
      ]
     },
     "metadata": {},
     "output_type": "display_data"
    },
    {
     "data": {
      "text/html": [
       " View run <strong style=\"color:#cdcd00\">happy-waterfall-44</strong> at: <a href='https://wandb.ai/cloudbend/mnist/runs/vaio0to5' target=\"_blank\">https://wandb.ai/cloudbend/mnist/runs/vaio0to5</a><br> View project at: <a href='https://wandb.ai/cloudbend/mnist' target=\"_blank\">https://wandb.ai/cloudbend/mnist</a><br>Synced 5 W&B file(s), 0 media file(s), 0 artifact file(s) and 0 other file(s)"
      ],
      "text/plain": [
       "<IPython.core.display.HTML object>"
      ]
     },
     "metadata": {},
     "output_type": "display_data"
    },
    {
     "data": {
      "text/html": [
       "Find logs at: <code>./wandb/run-20250211_190243-vaio0to5/logs</code>"
      ],
      "text/plain": [
       "<IPython.core.display.HTML object>"
      ]
     },
     "metadata": {},
     "output_type": "display_data"
    }
   ],
   "source": [
    "import torch\n",
    "import torch.nn as nn\n",
    "from torch.utils.data import DataLoader\n",
    "\n",
    "train_dataloader = DataLoader(train_ds, batch_size=run.config.batch_size, shuffle=True, generator=generator)\n",
    "dev_dataloader = DataLoader(dev_ds, batch_size=run.config.batch_size, shuffle=False)\n",
    "\n",
    "model = MLP()\n",
    "\n",
    "run.watch(model)\n",
    "\n",
    "loss_fn = nn.CrossEntropyLoss()\n",
    "optimizer = torch.optim.Adam(model.parameters(), lr=run.config.learning_rate)\n",
    "\n",
    "for t in range(run.config.epochs):\n",
    "    print(f\"Epoch {t+1}\\n-------------------------------\")\n",
    "    train_metrics = train_loop(model, train_dataloader, loss_fn, optimizer)\n",
    "    test_metrics = test_loop(model, dev_dataloader, loss_fn)\n",
    "    run.log({\n",
    "        \"train_epoch_accuracy\": train_metrics[\"accuracy\"],\n",
    "        \"train_epoch_loss\": train_metrics[\"loss\"],\n",
    "        \"test_epoch_accuracy\": test_metrics[\"accuracy\"],\n",
    "        \"test_epoch_loss\": test_metrics[\"loss\"],\n",
    "    })\n",
    "\n",
    "run.finish()"
   ]
  },
  {
   "cell_type": "markdown",
   "metadata": {},
   "source": [
    "# Evaluation"
   ]
  },
  {
   "cell_type": "code",
   "execution_count": 54,
   "metadata": {},
   "outputs": [
    {
     "data": {
      "text/plain": [
       "Dataset MNIST\n",
       "    Number of datapoints: 10000\n",
       "    Root location: /workspaces/mnist/data/test\n",
       "    Split: Test\n",
       "    StandardTransform\n",
       "Transform: ToTensor()"
      ]
     },
     "execution_count": 54,
     "metadata": {},
     "output_type": "execute_result"
    }
   ],
   "source": [
    "from torchvision.datasets import MNIST\n",
    "from torchvision.transforms import ToTensor\n",
    "\n",
    "test_ds = MNIST(\n",
    "    root=DATA_DIR / \"test\",\n",
    "    train=False,\n",
    "    download=True,\n",
    "    transform=ToTensor(),\n",
    ")\n",
    "\n",
    "test_ds"
   ]
  },
  {
   "cell_type": "code",
   "execution_count": 57,
   "metadata": {},
   "outputs": [
    {
     "name": "stdout",
     "output_type": "stream",
     "text": [
      "Test Error: \n",
      " Accuracy: 97.2%, Avg loss: 0.004080 \n",
      "\n"
     ]
    }
   ],
   "source": [
    "from torch.utils.data import DataLoader\n",
    "\n",
    "test_dataloader = DataLoader(test_ds, batch_size=run.config.batch_size, shuffle=False)\n",
    "\n",
    "_ = test_loop(model, test_dataloader, loss_fn)"
   ]
  },
  {
   "cell_type": "code",
   "execution_count": null,
   "metadata": {},
   "outputs": [],
   "source": []
  }
 ],
 "metadata": {
  "kernelspec": {
   "display_name": "Python 3",
   "language": "python",
   "name": "python3"
  },
  "language_info": {
   "codemirror_mode": {
    "name": "ipython",
    "version": 3
   },
   "file_extension": ".py",
   "mimetype": "text/x-python",
   "name": "python",
   "nbconvert_exporter": "python",
   "pygments_lexer": "ipython3",
   "version": "3.12.8"
  }
 },
 "nbformat": 4,
 "nbformat_minor": 2
}
