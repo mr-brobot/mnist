{
 "cells": [
  {
   "cell_type": "code",
   "execution_count": 1,
   "metadata": {},
   "outputs": [
    {
     "data": {
      "text/plain": [
       "PosixPath('/workspaces/mnist/data')"
      ]
     },
     "execution_count": 1,
     "metadata": {},
     "output_type": "execute_result"
    }
   ],
   "source": [
    "from pathlib import Path\n",
    "\n",
    "DATA_DIR = Path.cwd().parent / \"data\"\n",
    "\n",
    "DATA_DIR"
   ]
  },
  {
   "cell_type": "code",
   "execution_count": 2,
   "metadata": {},
   "outputs": [
    {
     "data": {
      "text/plain": [
       "device(type='cuda')"
      ]
     },
     "execution_count": 2,
     "metadata": {},
     "output_type": "execute_result"
    }
   ],
   "source": [
    "import torch\n",
    "\n",
    "device = torch.device(\"cuda\" if torch.cuda.is_available() else \"cpu\")\n",
    "\n",
    "if torch.cuda.is_available():\n",
    "    torch.set_float32_matmul_precision('high')\n",
    "\n",
    "device"
   ]
  },
  {
   "cell_type": "code",
   "execution_count": 3,
   "metadata": {},
   "outputs": [],
   "source": [
    "import torch\n",
    "\n",
    "generator = torch.Generator().manual_seed(42)"
   ]
  },
  {
   "cell_type": "markdown",
   "metadata": {},
   "source": [
    "# Splits"
   ]
  },
  {
   "cell_type": "code",
   "execution_count": 4,
   "metadata": {},
   "outputs": [
    {
     "data": {
      "text/plain": [
       "Dataset MNIST\n",
       "    Number of datapoints: 60000\n",
       "    Root location: /workspaces/mnist/data/train\n",
       "    Split: Train\n",
       "    StandardTransform\n",
       "Transform: ToTensor()"
      ]
     },
     "execution_count": 4,
     "metadata": {},
     "output_type": "execute_result"
    }
   ],
   "source": [
    "from torchvision.datasets import MNIST\n",
    "from torchvision.transforms import ToTensor\n",
    "\n",
    "train_ds = MNIST(\n",
    "    root=DATA_DIR / \"train\",\n",
    "    train=True,\n",
    "    download=True,\n",
    "    transform=ToTensor(),\n",
    ")\n",
    "\n",
    "train_ds"
   ]
  },
  {
   "cell_type": "code",
   "execution_count": 5,
   "metadata": {},
   "outputs": [
    {
     "data": {
      "text/plain": [
       "(50000, 10000)"
      ]
     },
     "execution_count": 5,
     "metadata": {},
     "output_type": "execute_result"
    }
   ],
   "source": [
    "from torch.utils.data import random_split\n",
    "\n",
    "DEV_SIZE = 10_000\n",
    "\n",
    "train_ds, dev_ds = random_split(\n",
    "    train_ds,\n",
    "    [len(train_ds) - DEV_SIZE, DEV_SIZE],\n",
    "    generator=generator,\n",
    ")\n",
    "\n",
    "len(train_ds), len(dev_ds)"
   ]
  },
  {
   "cell_type": "markdown",
   "metadata": {},
   "source": [
    "# Definition"
   ]
  },
  {
   "cell_type": "code",
   "execution_count": 6,
   "metadata": {},
   "outputs": [],
   "source": [
    "import torch\n",
    "import torch.nn as nn\n",
    "\n",
    "@torch.compile\n",
    "class CNN(nn.Module):\n",
    "    def __init__(self):\n",
    "        super().__init__()\n",
    "\n",
    "        self.conv_stack = nn.Sequential(\n",
    "            nn.BatchNorm2d(1),\n",
    "\n",
    "            nn.Conv2d(1, 32, kernel_size=3, padding=1), # padding preserves spatial dims\n",
    "            nn.BatchNorm2d(32),\n",
    "            nn.ReLU(),\n",
    "            nn.MaxPool2d(kernel_size=2, stride=2), # 28x28 -> 14x14\n",
    "\n",
    "            nn.Conv2d(32, 64, kernel_size=3, padding=1), # padding preserves spatial dims\n",
    "            nn.BatchNorm2d(64),\n",
    "            nn.ReLU(),\n",
    "            nn.MaxPool2d(kernel_size=2, stride=2), # 14x14 -> 7x7\n",
    "        )\n",
    "\n",
    "        self.flatten = nn.Flatten()\n",
    "\n",
    "        self.linear_stack = nn.Sequential(\n",
    "            nn.Linear(64 * 7 * 7, 512),\n",
    "            nn.ReLU(),\n",
    "            nn.Dropout(0.5),\n",
    "\n",
    "            nn.Linear(512, 128),\n",
    "            nn.ReLU(),\n",
    "            nn.Dropout(0.5),\n",
    "            \n",
    "            nn.Linear(128, 10),\n",
    "        )\n",
    "\n",
    "    def forward(self, x):\n",
    "        x = self.conv_stack(x)\n",
    "        x = self.flatten(x)\n",
    "        x = self.linear_stack(x)\n",
    "        return x"
   ]
  },
  {
   "cell_type": "code",
   "execution_count": 7,
   "metadata": {},
   "outputs": [
    {
     "data": {
      "text/plain": [
       "CNN(\n",
       "  (conv_stack): Sequential(\n",
       "    (0): BatchNorm2d(1, eps=1e-05, momentum=0.1, affine=True, track_running_stats=True)\n",
       "    (1): Conv2d(1, 32, kernel_size=(3, 3), stride=(1, 1), padding=(1, 1))\n",
       "    (2): BatchNorm2d(32, eps=1e-05, momentum=0.1, affine=True, track_running_stats=True)\n",
       "    (3): ReLU()\n",
       "    (4): MaxPool2d(kernel_size=2, stride=2, padding=0, dilation=1, ceil_mode=False)\n",
       "    (5): Conv2d(32, 64, kernel_size=(3, 3), stride=(1, 1), padding=(1, 1))\n",
       "    (6): BatchNorm2d(64, eps=1e-05, momentum=0.1, affine=True, track_running_stats=True)\n",
       "    (7): ReLU()\n",
       "    (8): MaxPool2d(kernel_size=2, stride=2, padding=0, dilation=1, ceil_mode=False)\n",
       "  )\n",
       "  (flatten): Flatten(start_dim=1, end_dim=-1)\n",
       "  (linear_stack): Sequential(\n",
       "    (0): Linear(in_features=3136, out_features=512, bias=True)\n",
       "    (1): ReLU()\n",
       "    (2): Dropout(p=0.5, inplace=False)\n",
       "    (3): Linear(in_features=512, out_features=128, bias=True)\n",
       "    (4): ReLU()\n",
       "    (5): Dropout(p=0.5, inplace=False)\n",
       "    (6): Linear(in_features=128, out_features=10, bias=True)\n",
       "  )\n",
       ")"
      ]
     },
     "execution_count": 7,
     "metadata": {},
     "output_type": "execute_result"
    }
   ],
   "source": [
    "model = CNN()\n",
    "\n",
    "model"
   ]
  },
  {
   "cell_type": "markdown",
   "metadata": {},
   "source": [
    "# Training"
   ]
  },
  {
   "cell_type": "code",
   "execution_count": 8,
   "metadata": {},
   "outputs": [
    {
     "name": "stderr",
     "output_type": "stream",
     "text": [
      "\u001b[34m\u001b[1mwandb\u001b[0m: Currently logged in as: \u001b[33mmrbrobot\u001b[0m (\u001b[33mcloudbend\u001b[0m). Use \u001b[1m`wandb login --relogin`\u001b[0m to force relogin\n",
      "\u001b[34m\u001b[1mwandb\u001b[0m: Using wandb-core as the SDK backend.  Please refer to https://wandb.me/wandb-core for more information.\n"
     ]
    },
    {
     "data": {
      "text/html": [
       "Tracking run with wandb version 0.19.2"
      ],
      "text/plain": [
       "<IPython.core.display.HTML object>"
      ]
     },
     "metadata": {},
     "output_type": "display_data"
    },
    {
     "data": {
      "text/html": [
       "Run data is saved locally in <code>/workspaces/mnist/nbs/wandb/run-20250216_011059-bunn5ybx</code>"
      ],
      "text/plain": [
       "<IPython.core.display.HTML object>"
      ]
     },
     "metadata": {},
     "output_type": "display_data"
    },
    {
     "data": {
      "text/html": [
       "Syncing run <strong><a href='https://wandb.ai/cloudbend/mnist/runs/bunn5ybx' target=\"_blank\">devout-firefly-48</a></strong> to <a href='https://wandb.ai/cloudbend/mnist' target=\"_blank\">Weights & Biases</a> (<a href='https://wandb.me/developer-guide' target=\"_blank\">docs</a>)<br>"
      ],
      "text/plain": [
       "<IPython.core.display.HTML object>"
      ]
     },
     "metadata": {},
     "output_type": "display_data"
    },
    {
     "data": {
      "text/html": [
       " View project at <a href='https://wandb.ai/cloudbend/mnist' target=\"_blank\">https://wandb.ai/cloudbend/mnist</a>"
      ],
      "text/plain": [
       "<IPython.core.display.HTML object>"
      ]
     },
     "metadata": {},
     "output_type": "display_data"
    },
    {
     "data": {
      "text/html": [
       " View run at <a href='https://wandb.ai/cloudbend/mnist/runs/bunn5ybx' target=\"_blank\">https://wandb.ai/cloudbend/mnist/runs/bunn5ybx</a>"
      ],
      "text/plain": [
       "<IPython.core.display.HTML object>"
      ]
     },
     "metadata": {},
     "output_type": "display_data"
    }
   ],
   "source": [
    "import wandb\n",
    "\n",
    "run = wandb.init(project=\"mnist\", config={\n",
    "    \"architecture\": \"cnn\",\n",
    "    \"epochs\": 8,\n",
    "    \"batch_size\": 64,\n",
    "    \"learning_rate\": 1e-3,\n",
    "})"
   ]
  },
  {
   "cell_type": "code",
   "execution_count": 9,
   "metadata": {},
   "outputs": [],
   "source": [
    "import torch\n",
    "import torch.nn as nn\n",
    "from torch.utils.data import DataLoader\n",
    "from typing import TypedDict\n",
    "\n",
    "class LoopMetrics(TypedDict):\n",
    "    accuracy: float\n",
    "    loss: float\n",
    "\n",
    "def train_loop(model: nn.Module, dataloader: DataLoader, loss_fn: nn.Module, optimizer: torch.optim.Optimizer) -> LoopMetrics:\n",
    "    model = model.to(device).train()\n",
    "    size = len(dataloader.dataset)\n",
    "    train_loss, correct = 0, 0\n",
    "    for batch, (X, y) in enumerate(dataloader):\n",
    "        X, y = X.to(device), y.to(device)\n",
    "\n",
    "        pred = model(X)\n",
    "        loss = loss_fn(pred, y)\n",
    "\n",
    "        train_loss += loss.item()\n",
    "        run.log({\"train_batch_loss\": loss.item()})\n",
    "\n",
    "        optimizer.zero_grad()\n",
    "        loss.backward()\n",
    "        optimizer.step()\n",
    "        \n",
    "        correct += (\n",
    "            (pred.argmax(1) == y)\n",
    "            .type(torch.float)\n",
    "            .sum()\n",
    "            .item()\n",
    "        )\n",
    "\n",
    "        if batch % 100 == 0:\n",
    "            loss, current = loss.item(), batch * len(X)\n",
    "            print(f\"loss: {loss:>7f}  [{current:>5d}/{size:>5d}]\")\n",
    "            \n",
    "    accuracy = correct / size\n",
    "    train_loss /= size\n",
    "\n",
    "    print(f\"Train Error: \\n Accuracy: {100 * accuracy:>0.1f}%, Avg loss: {train_loss:>8f} \\n\")\n",
    "\n",
    "    return {\n",
    "        \"accuracy\": accuracy,\n",
    "        \"loss\": train_loss,\n",
    "    }\n",
    "\n",
    "@torch.no_grad\n",
    "def test_loop(model: nn.Module, dataloader: DataLoader, loss_fn: nn.Module) -> LoopMetrics:\n",
    "    model = model.to(device).eval()\n",
    "    size = len(dataloader.dataset)\n",
    "    test_loss, correct = 0, 0\n",
    "\n",
    "    for X, y in dataloader:\n",
    "        X, y = X.to(device), y.to(device)\n",
    "\n",
    "        pred = model(X)\n",
    "        loss = loss_fn(pred, y)\n",
    "    \n",
    "        test_loss += loss.item()\n",
    "    \n",
    "        correct += (\n",
    "            (pred.argmax(1) == y)\n",
    "            .type(torch.float)\n",
    "            .sum()\n",
    "            .item()\n",
    "        )\n",
    "\n",
    "    test_loss /= size\n",
    "    accuracy = correct / size\n",
    "    print(f\"Test Error: \\n Accuracy: {100 * accuracy:>0.1f}%, Avg loss: {test_loss:>8f} \\n\")\n",
    "\n",
    "    return {\n",
    "        \"accuracy\": accuracy,\n",
    "        \"loss\": test_loss,\n",
    "    }"
   ]
  },
  {
   "cell_type": "code",
   "execution_count": 10,
   "metadata": {},
   "outputs": [
    {
     "name": "stdout",
     "output_type": "stream",
     "text": [
      "Epoch 1\n",
      "-------------------------------\n",
      "loss: 2.321584  [    0/50000]\n",
      "loss: 0.176015  [ 6400/50000]\n",
      "loss: 0.598732  [12800/50000]\n",
      "loss: 0.250075  [19200/50000]\n",
      "loss: 0.077316  [25600/50000]\n",
      "loss: 0.129450  [32000/50000]\n",
      "loss: 0.106766  [38400/50000]\n",
      "loss: 0.111339  [44800/50000]\n",
      "Train Error: \n",
      " Accuracy: 92.3%, Avg loss: 0.003940 \n",
      "\n",
      "Test Error: \n",
      " Accuracy: 97.8%, Avg loss: 0.001109 \n",
      "\n",
      "Epoch 2\n",
      "-------------------------------\n",
      "loss: 0.060881  [    0/50000]\n",
      "loss: 0.044780  [ 6400/50000]\n",
      "loss: 0.040227  [12800/50000]\n",
      "loss: 0.204864  [19200/50000]\n",
      "loss: 0.149636  [25600/50000]\n",
      "loss: 0.166850  [32000/50000]\n",
      "loss: 0.013978  [38400/50000]\n",
      "loss: 0.213783  [44800/50000]\n",
      "Train Error: \n",
      " Accuracy: 97.4%, Avg loss: 0.001499 \n",
      "\n",
      "Test Error: \n",
      " Accuracy: 98.3%, Avg loss: 0.001031 \n",
      "\n",
      "Epoch 3\n",
      "-------------------------------\n",
      "loss: 0.122946  [    0/50000]\n",
      "loss: 0.047953  [ 6400/50000]\n",
      "loss: 0.038037  [12800/50000]\n",
      "loss: 0.050793  [19200/50000]\n",
      "loss: 0.094651  [25600/50000]\n",
      "loss: 0.066618  [32000/50000]\n",
      "loss: 0.119370  [38400/50000]\n",
      "loss: 0.069886  [44800/50000]\n",
      "Train Error: \n",
      " Accuracy: 98.0%, Avg loss: 0.001156 \n",
      "\n",
      "Test Error: \n",
      " Accuracy: 98.8%, Avg loss: 0.000755 \n",
      "\n",
      "Epoch 4\n",
      "-------------------------------\n",
      "loss: 0.023299  [    0/50000]\n",
      "loss: 0.046384  [ 6400/50000]\n",
      "loss: 0.046680  [12800/50000]\n",
      "loss: 0.010195  [19200/50000]\n",
      "loss: 0.099434  [25600/50000]\n",
      "loss: 0.085697  [32000/50000]\n",
      "loss: 0.022928  [38400/50000]\n",
      "loss: 0.054469  [44800/50000]\n",
      "Train Error: \n",
      " Accuracy: 98.3%, Avg loss: 0.000953 \n",
      "\n",
      "Test Error: \n",
      " Accuracy: 98.8%, Avg loss: 0.000747 \n",
      "\n",
      "Epoch 5\n",
      "-------------------------------\n",
      "loss: 0.065587  [    0/50000]\n",
      "loss: 0.071415  [ 6400/50000]\n",
      "loss: 0.035023  [12800/50000]\n",
      "loss: 0.031761  [19200/50000]\n",
      "loss: 0.072275  [25600/50000]\n",
      "loss: 0.005020  [32000/50000]\n",
      "loss: 0.021079  [38400/50000]\n",
      "loss: 0.041641  [44800/50000]\n",
      "Train Error: \n",
      " Accuracy: 98.5%, Avg loss: 0.000839 \n",
      "\n",
      "Test Error: \n",
      " Accuracy: 98.8%, Avg loss: 0.000754 \n",
      "\n",
      "Epoch 6\n",
      "-------------------------------\n",
      "loss: 0.014559  [    0/50000]\n",
      "loss: 0.005916  [ 6400/50000]\n",
      "loss: 0.017476  [12800/50000]\n",
      "loss: 0.039032  [19200/50000]\n",
      "loss: 0.185240  [25600/50000]\n",
      "loss: 0.009603  [32000/50000]\n",
      "loss: 0.127805  [38400/50000]\n",
      "loss: 0.053722  [44800/50000]\n",
      "Train Error: \n",
      " Accuracy: 98.7%, Avg loss: 0.000703 \n",
      "\n",
      "Test Error: \n",
      " Accuracy: 99.0%, Avg loss: 0.000692 \n",
      "\n",
      "Epoch 7\n",
      "-------------------------------\n",
      "loss: 0.034016  [    0/50000]\n",
      "loss: 0.006921  [ 6400/50000]\n",
      "loss: 0.076638  [12800/50000]\n",
      "loss: 0.027093  [19200/50000]\n",
      "loss: 0.003082  [25600/50000]\n",
      "loss: 0.032172  [32000/50000]\n",
      "loss: 0.024382  [38400/50000]\n",
      "loss: 0.048058  [44800/50000]\n",
      "Train Error: \n",
      " Accuracy: 98.9%, Avg loss: 0.000659 \n",
      "\n",
      "Test Error: \n",
      " Accuracy: 99.1%, Avg loss: 0.000541 \n",
      "\n",
      "Epoch 8\n",
      "-------------------------------\n",
      "loss: 0.068453  [    0/50000]\n",
      "loss: 0.016344  [ 6400/50000]\n",
      "loss: 0.009957  [12800/50000]\n",
      "loss: 0.013175  [19200/50000]\n",
      "loss: 0.004301  [25600/50000]\n",
      "loss: 0.162258  [32000/50000]\n",
      "loss: 0.001366  [38400/50000]\n",
      "loss: 0.001403  [44800/50000]\n",
      "Train Error: \n",
      " Accuracy: 99.0%, Avg loss: 0.000555 \n",
      "\n",
      "Test Error: \n",
      " Accuracy: 99.0%, Avg loss: 0.000570 \n",
      "\n"
     ]
    },
    {
     "data": {
      "text/html": [],
      "text/plain": [
       "<IPython.core.display.HTML object>"
      ]
     },
     "metadata": {},
     "output_type": "display_data"
    },
    {
     "data": {
      "text/html": [
       "<br>    <style><br>        .wandb-row {<br>            display: flex;<br>            flex-direction: row;<br>            flex-wrap: wrap;<br>            justify-content: flex-start;<br>            width: 100%;<br>        }<br>        .wandb-col {<br>            display: flex;<br>            flex-direction: column;<br>            flex-basis: 100%;<br>            flex: 1;<br>            padding: 10px;<br>        }<br>    </style><br><div class=\"wandb-row\"><div class=\"wandb-col\"><h3>Run history:</h3><br/><table class=\"wandb\"><tr><td>test_epoch_accuracy</td><td>▁▄▆▇▇▇██</td></tr><tr><td>test_epoch_loss</td><td>█▇▄▄▄▃▁▁</td></tr><tr><td>train_batch_loss</td><td>▇▅▅▆▄▂▆▃▂▃▂▃▂▃▃▂▄▂▁▂▂▁▃▂▁█▂▁▂▂▁▁▁▂▅▂▂▁▂▃</td></tr><tr><td>train_epoch_accuracy</td><td>▁▆▇▇████</td></tr><tr><td>train_epoch_loss</td><td>█▃▂▂▂▁▁▁</td></tr></table><br/></div><div class=\"wandb-col\"><h3>Run summary:</h3><br/><table class=\"wandb\"><tr><td>test_epoch_accuracy</td><td>0.99</td></tr><tr><td>test_epoch_loss</td><td>0.00057</td></tr><tr><td>train_batch_loss</td><td>0.06634</td></tr><tr><td>train_epoch_accuracy</td><td>0.9901</td></tr><tr><td>train_epoch_loss</td><td>0.00056</td></tr></table><br/></div></div>"
      ],
      "text/plain": [
       "<IPython.core.display.HTML object>"
      ]
     },
     "metadata": {},
     "output_type": "display_data"
    },
    {
     "data": {
      "text/html": [
       " View run <strong style=\"color:#cdcd00\">devout-firefly-48</strong> at: <a href='https://wandb.ai/cloudbend/mnist/runs/bunn5ybx' target=\"_blank\">https://wandb.ai/cloudbend/mnist/runs/bunn5ybx</a><br> View project at: <a href='https://wandb.ai/cloudbend/mnist' target=\"_blank\">https://wandb.ai/cloudbend/mnist</a><br>Synced 5 W&B file(s), 0 media file(s), 0 artifact file(s) and 0 other file(s)"
      ],
      "text/plain": [
       "<IPython.core.display.HTML object>"
      ]
     },
     "metadata": {},
     "output_type": "display_data"
    },
    {
     "data": {
      "text/html": [
       "Find logs at: <code>./wandb/run-20250216_011059-bunn5ybx/logs</code>"
      ],
      "text/plain": [
       "<IPython.core.display.HTML object>"
      ]
     },
     "metadata": {},
     "output_type": "display_data"
    }
   ],
   "source": [
    "import torch\n",
    "import torch.nn as nn\n",
    "from torch.utils.data import DataLoader\n",
    "\n",
    "train_dataloader = DataLoader(train_ds, batch_size=run.config.batch_size, shuffle=True, generator=generator)\n",
    "dev_dataloader = DataLoader(dev_ds, batch_size=run.config.batch_size, shuffle=False)\n",
    "\n",
    "model = CNN()\n",
    "\n",
    "run.watch(model)\n",
    "\n",
    "loss_fn = nn.CrossEntropyLoss()\n",
    "optimizer = torch.optim.Adam(model.parameters(), lr=run.config.learning_rate)\n",
    "\n",
    "for t in range(run.config.epochs):\n",
    "    print(f\"Epoch {t+1}\\n-------------------------------\")\n",
    "    train_metrics = train_loop(model, train_dataloader, loss_fn, optimizer)\n",
    "    test_metrics = test_loop(model, dev_dataloader, loss_fn)\n",
    "    run.log({\n",
    "        \"train_epoch_accuracy\": train_metrics[\"accuracy\"],\n",
    "        \"train_epoch_loss\": train_metrics[\"loss\"],\n",
    "        \"test_epoch_accuracy\": test_metrics[\"accuracy\"],\n",
    "        \"test_epoch_loss\": test_metrics[\"loss\"],\n",
    "    })\n",
    "\n",
    "run.finish()"
   ]
  },
  {
   "cell_type": "markdown",
   "metadata": {},
   "source": [
    "# Evaluation"
   ]
  },
  {
   "cell_type": "code",
   "execution_count": 13,
   "metadata": {},
   "outputs": [
    {
     "data": {
      "text/plain": [
       "Dataset MNIST\n",
       "    Number of datapoints: 10000\n",
       "    Root location: /workspaces/mnist/data/test\n",
       "    Split: Test\n",
       "    StandardTransform\n",
       "Transform: ToTensor()"
      ]
     },
     "execution_count": 13,
     "metadata": {},
     "output_type": "execute_result"
    }
   ],
   "source": [
    "from torchvision.datasets import MNIST\n",
    "from torchvision.transforms import ToTensor\n",
    "\n",
    "test_ds = MNIST(\n",
    "    root=DATA_DIR / \"test\",\n",
    "    train=False,\n",
    "    download=True,\n",
    "    transform=ToTensor(),\n",
    ")\n",
    "\n",
    "test_ds"
   ]
  },
  {
   "cell_type": "code",
   "execution_count": 14,
   "metadata": {},
   "outputs": [
    {
     "name": "stdout",
     "output_type": "stream",
     "text": [
      "Test Error: \n",
      " Accuracy: 99.4%, Avg loss: 0.000387 \n",
      "\n"
     ]
    }
   ],
   "source": [
    "from torch.utils.data import DataLoader\n",
    "\n",
    "test_dataloader = DataLoader(test_ds, batch_size=run.config.batch_size, shuffle=False)\n",
    "\n",
    "_ = test_loop(model, test_dataloader, loss_fn)"
   ]
  }
 ],
 "metadata": {
  "kernelspec": {
   "display_name": "Python 3",
   "language": "python",
   "name": "python3"
  },
  "language_info": {
   "codemirror_mode": {
    "name": "ipython",
    "version": 3
   },
   "file_extension": ".py",
   "mimetype": "text/x-python",
   "name": "python",
   "nbconvert_exporter": "python",
   "pygments_lexer": "ipython3",
   "version": "3.12.8"
  }
 },
 "nbformat": 4,
 "nbformat_minor": 2
}
