{
 "cells": [
  {
   "cell_type": "code",
   "execution_count": 1,
   "metadata": {},
   "outputs": [
    {
     "data": {
      "text/plain": [
       "PosixPath('/workspaces/mnist/data')"
      ]
     },
     "execution_count": 1,
     "metadata": {},
     "output_type": "execute_result"
    }
   ],
   "source": [
    "from pathlib import Path\n",
    "\n",
    "DATA_DIR = Path.cwd().parent / \"data\"\n",
    "\n",
    "DATA_DIR"
   ]
  },
  {
   "cell_type": "code",
   "execution_count": 2,
   "metadata": {},
   "outputs": [
    {
     "data": {
      "text/plain": [
       "device(type='cuda')"
      ]
     },
     "execution_count": 2,
     "metadata": {},
     "output_type": "execute_result"
    }
   ],
   "source": [
    "import torch\n",
    "\n",
    "device = torch.device(\"cuda\" if torch.cuda.is_available() else \"cpu\")\n",
    "\n",
    "if torch.cuda.is_available():\n",
    "    torch.set_float32_matmul_precision('high')\n",
    "\n",
    "device"
   ]
  },
  {
   "cell_type": "code",
   "execution_count": 3,
   "metadata": {},
   "outputs": [],
   "source": [
    "import torch\n",
    "\n",
    "generator = torch.Generator().manual_seed(42)"
   ]
  },
  {
   "cell_type": "markdown",
   "metadata": {},
   "source": [
    "# Splits"
   ]
  },
  {
   "cell_type": "code",
   "execution_count": 4,
   "metadata": {},
   "outputs": [
    {
     "data": {
      "text/plain": [
       "Dataset MNIST\n",
       "    Number of datapoints: 60000\n",
       "    Root location: /workspaces/mnist/data/train\n",
       "    Split: Train\n",
       "    StandardTransform\n",
       "Transform: ToTensor()"
      ]
     },
     "execution_count": 4,
     "metadata": {},
     "output_type": "execute_result"
    }
   ],
   "source": [
    "from torchvision.datasets import MNIST\n",
    "from torchvision.transforms import ToTensor\n",
    "\n",
    "train_ds = MNIST(\n",
    "    root=DATA_DIR / \"train\",\n",
    "    train=True,\n",
    "    download=True,\n",
    "    transform=ToTensor(),\n",
    ")\n",
    "\n",
    "train_ds"
   ]
  },
  {
   "cell_type": "code",
   "execution_count": 5,
   "metadata": {},
   "outputs": [
    {
     "data": {
      "text/plain": [
       "(50000, 10000)"
      ]
     },
     "execution_count": 5,
     "metadata": {},
     "output_type": "execute_result"
    }
   ],
   "source": [
    "from torch.utils.data import random_split\n",
    "\n",
    "DEV_SIZE = 10_000\n",
    "\n",
    "train_ds, dev_ds = random_split(\n",
    "    train_ds,\n",
    "    [len(train_ds) - DEV_SIZE, DEV_SIZE],\n",
    "    generator=generator,\n",
    ")\n",
    "\n",
    "len(train_ds), len(dev_ds)"
   ]
  },
  {
   "cell_type": "markdown",
   "metadata": {},
   "source": [
    "# Definition"
   ]
  },
  {
   "cell_type": "code",
   "execution_count": 52,
   "metadata": {},
   "outputs": [],
   "source": [
    "import torch\n",
    "import torch.nn as nn\n",
    "\n",
    "@torch.compile\n",
    "class CNN(nn.Module):\n",
    "    def __init__(self):\n",
    "        super().__init__()\n",
    "\n",
    "        self.conv_stack = nn.Sequential(\n",
    "            nn.BatchNorm2d(1),\n",
    "\n",
    "            nn.Conv2d(1, 64, kernel_size=5, padding=\"same\"), # padding preserves spatial dims\n",
    "            nn.BatchNorm2d(64),\n",
    "            nn.ReLU(),\n",
    "            nn.MaxPool2d(kernel_size=2, stride=2), # (B, 1, 28, 28) -> (B, 64, 14, 14)\n",
    "\n",
    "            nn.Conv2d(64, 8, kernel_size=3, padding=\"same\"), # padding preserves spatial dims\n",
    "            nn.BatchNorm2d(8),\n",
    "            nn.ReLU(),\n",
    "            nn.MaxPool2d(kernel_size=2, stride=2), # (B, 32, 14, 14) -> (B, 8, 7, 7)\n",
    "        )\n",
    "\n",
    "        self.flatten = nn.Flatten() # (B, 8, 7, 7) -> (B, 8 * 7 * 7)\n",
    "\n",
    "        self.linear_stack = nn.Sequential(\n",
    "            nn.Linear(8 * 7 * 7, 64), # (B, 392) -> (B, 128)\n",
    "            nn.ReLU(),\n",
    "            nn.Dropout(0.5),\n",
    "            \n",
    "            nn.Linear(64, 10), # (B, 64) -> (B, 10)\n",
    "        )\n",
    "\n",
    "    def forward(self, x):\n",
    "        x = self.conv_stack(x)\n",
    "        x = self.flatten(x)\n",
    "        x = self.linear_stack(x)\n",
    "        return x"
   ]
  },
  {
   "cell_type": "code",
   "execution_count": 53,
   "metadata": {},
   "outputs": [
    {
     "data": {
      "text/plain": [
       "CNN(\n",
       "  (conv_stack): Sequential(\n",
       "    (0): BatchNorm2d(1, eps=1e-05, momentum=0.1, affine=True, track_running_stats=True)\n",
       "    (1): Conv2d(1, 64, kernel_size=(5, 5), stride=(1, 1), padding=same)\n",
       "    (2): BatchNorm2d(64, eps=1e-05, momentum=0.1, affine=True, track_running_stats=True)\n",
       "    (3): ReLU()\n",
       "    (4): MaxPool2d(kernel_size=2, stride=2, padding=0, dilation=1, ceil_mode=False)\n",
       "    (5): Conv2d(64, 8, kernel_size=(3, 3), stride=(1, 1), padding=same)\n",
       "    (6): BatchNorm2d(8, eps=1e-05, momentum=0.1, affine=True, track_running_stats=True)\n",
       "    (7): ReLU()\n",
       "    (8): MaxPool2d(kernel_size=2, stride=2, padding=0, dilation=1, ceil_mode=False)\n",
       "  )\n",
       "  (flatten): Flatten(start_dim=1, end_dim=-1)\n",
       "  (linear_stack): Sequential(\n",
       "    (0): Linear(in_features=392, out_features=64, bias=True)\n",
       "    (1): ReLU()\n",
       "    (2): Dropout(p=0.5, inplace=False)\n",
       "    (3): Linear(in_features=64, out_features=10, bias=True)\n",
       "  )\n",
       ")"
      ]
     },
     "execution_count": 53,
     "metadata": {},
     "output_type": "execute_result"
    }
   ],
   "source": [
    "model = CNN()\n",
    "\n",
    "model"
   ]
  },
  {
   "cell_type": "markdown",
   "metadata": {},
   "source": [
    "Total parameters"
   ]
  },
  {
   "cell_type": "code",
   "execution_count": 54,
   "metadata": {},
   "outputs": [
    {
     "data": {
      "text/plain": [
       "32228"
      ]
     },
     "execution_count": 54,
     "metadata": {},
     "output_type": "execute_result"
    }
   ],
   "source": [
    "total_params = sum(p.numel() for p in model.parameters() if p.requires_grad)\n",
    "\n",
    "total_params"
   ]
  },
  {
   "cell_type": "markdown",
   "metadata": {},
   "source": [
    "# Training"
   ]
  },
  {
   "cell_type": "code",
   "execution_count": 55,
   "metadata": {},
   "outputs": [
    {
     "data": {
      "text/html": [
       "Tracking run with wandb version 0.19.6"
      ],
      "text/plain": [
       "<IPython.core.display.HTML object>"
      ]
     },
     "metadata": {},
     "output_type": "display_data"
    },
    {
     "data": {
      "text/html": [
       "Run data is saved locally in <code>/workspaces/mnist/nbs/wandb/run-20250616_203851-vgg8gfza</code>"
      ],
      "text/plain": [
       "<IPython.core.display.HTML object>"
      ]
     },
     "metadata": {},
     "output_type": "display_data"
    },
    {
     "data": {
      "text/html": [
       "Syncing run <strong><a href='https://wandb.ai/cloudbend/mnist/runs/vgg8gfza' target=\"_blank\">ethereal-plasma-56</a></strong> to <a href='https://wandb.ai/cloudbend/mnist' target=\"_blank\">Weights & Biases</a> (<a href='https://wandb.me/developer-guide' target=\"_blank\">docs</a>)<br>"
      ],
      "text/plain": [
       "<IPython.core.display.HTML object>"
      ]
     },
     "metadata": {},
     "output_type": "display_data"
    },
    {
     "data": {
      "text/html": [
       " View project at <a href='https://wandb.ai/cloudbend/mnist' target=\"_blank\">https://wandb.ai/cloudbend/mnist</a>"
      ],
      "text/plain": [
       "<IPython.core.display.HTML object>"
      ]
     },
     "metadata": {},
     "output_type": "display_data"
    },
    {
     "data": {
      "text/html": [
       " View run at <a href='https://wandb.ai/cloudbend/mnist/runs/vgg8gfza' target=\"_blank\">https://wandb.ai/cloudbend/mnist/runs/vgg8gfza</a>"
      ],
      "text/plain": [
       "<IPython.core.display.HTML object>"
      ]
     },
     "metadata": {},
     "output_type": "display_data"
    }
   ],
   "source": [
    "import wandb\n",
    "\n",
    "run = wandb.init(project=\"mnist\", config={\n",
    "    \"architecture\": \"cnn\",\n",
    "    \"epochs\": 8,\n",
    "    \"batch_size\": 64,\n",
    "    \"learning_rate\": 1e-3,\n",
    "    \"total_params\": total_params,\n",
    "})"
   ]
  },
  {
   "cell_type": "code",
   "execution_count": 56,
   "metadata": {},
   "outputs": [],
   "source": [
    "import torch\n",
    "import torch.nn as nn\n",
    "from torch.utils.data import DataLoader\n",
    "from typing import TypedDict\n",
    "\n",
    "class LoopMetrics(TypedDict):\n",
    "    accuracy: float\n",
    "    loss: float\n",
    "\n",
    "def train_loop(model: nn.Module, dataloader: DataLoader, loss_fn: nn.Module, optimizer: torch.optim.Optimizer) -> LoopMetrics:\n",
    "    model = model.to(device).train()\n",
    "    size = len(dataloader.dataset)\n",
    "    train_loss, correct = 0, 0\n",
    "    for batch, (X, y) in enumerate(dataloader):\n",
    "        X, y = X.to(device), y.to(device)\n",
    "\n",
    "        pred = model(X)\n",
    "        loss = loss_fn(pred, y)\n",
    "\n",
    "        train_loss += loss.item()\n",
    "        run.log({\"train_batch_loss\": loss.item()})\n",
    "\n",
    "        optimizer.zero_grad()\n",
    "        loss.backward()\n",
    "        optimizer.step()\n",
    "        \n",
    "        correct += (\n",
    "            (pred.argmax(1) == y)\n",
    "            .type(torch.float)\n",
    "            .sum()\n",
    "            .item()\n",
    "        )\n",
    "\n",
    "        if batch % 100 == 0:\n",
    "            loss, current = loss.item(), batch * len(X)\n",
    "            print(f\"loss: {loss:>7f}  [{current:>5d}/{size:>5d}]\")\n",
    "            \n",
    "    accuracy = correct / size\n",
    "    train_loss /= size\n",
    "\n",
    "    print(f\"Train Error: \\n Accuracy: {100 * accuracy:>0.1f}%, Avg loss: {train_loss:>8f} \\n\")\n",
    "\n",
    "    return {\n",
    "        \"accuracy\": accuracy,\n",
    "        \"loss\": train_loss,\n",
    "    }\n",
    "\n",
    "@torch.no_grad\n",
    "def test_loop(model: nn.Module, dataloader: DataLoader, loss_fn: nn.Module) -> LoopMetrics:\n",
    "    model = model.to(device).eval()\n",
    "    size = len(dataloader.dataset)\n",
    "    test_loss, correct = 0, 0\n",
    "\n",
    "    for X, y in dataloader:\n",
    "        X, y = X.to(device), y.to(device)\n",
    "\n",
    "        pred = model(X)\n",
    "        loss = loss_fn(pred, y)\n",
    "    \n",
    "        test_loss += loss.item()\n",
    "    \n",
    "        correct += (\n",
    "            (pred.argmax(1) == y)\n",
    "            .type(torch.float)\n",
    "            .sum()\n",
    "            .item()\n",
    "        )\n",
    "\n",
    "    test_loss /= size\n",
    "    accuracy = correct / size\n",
    "    print(f\"Test Error: \\n Accuracy: {100 * accuracy:>0.1f}%, Avg loss: {test_loss:>8f} \\n\")\n",
    "\n",
    "    return {\n",
    "        \"accuracy\": accuracy,\n",
    "        \"loss\": test_loss,\n",
    "    }"
   ]
  },
  {
   "cell_type": "code",
   "execution_count": 57,
   "metadata": {},
   "outputs": [
    {
     "name": "stdout",
     "output_type": "stream",
     "text": [
      "Epoch 1\n",
      "-------------------------------\n",
      "loss: 2.370643  [    0/50000]\n",
      "loss: 0.665756  [ 6400/50000]\n",
      "loss: 0.209661  [12800/50000]\n",
      "loss: 0.229006  [19200/50000]\n",
      "loss: 0.333165  [25600/50000]\n",
      "loss: 0.125973  [32000/50000]\n",
      "loss: 0.176815  [38400/50000]\n",
      "loss: 0.115238  [44800/50000]\n",
      "Train Error: \n",
      " Accuracy: 90.2%, Avg loss: 0.005216 \n",
      "\n",
      "Test Error: \n",
      " Accuracy: 97.9%, Avg loss: 0.001125 \n",
      "\n",
      "Epoch 2\n",
      "-------------------------------\n",
      "loss: 0.033082  [    0/50000]\n",
      "loss: 0.068853  [ 6400/50000]\n",
      "loss: 0.041129  [12800/50000]\n",
      "loss: 0.071861  [19200/50000]\n",
      "loss: 0.059403  [25600/50000]\n",
      "loss: 0.045808  [32000/50000]\n",
      "loss: 0.105471  [38400/50000]\n",
      "loss: 0.303587  [44800/50000]\n",
      "Train Error: \n",
      " Accuracy: 96.4%, Avg loss: 0.001918 \n",
      "\n",
      "Test Error: \n",
      " Accuracy: 98.3%, Avg loss: 0.000937 \n",
      "\n",
      "Epoch 3\n",
      "-------------------------------\n",
      "loss: 0.077533  [    0/50000]\n",
      "loss: 0.129507  [ 6400/50000]\n",
      "loss: 0.053821  [12800/50000]\n",
      "loss: 0.025500  [19200/50000]\n",
      "loss: 0.083933  [25600/50000]\n",
      "loss: 0.156835  [32000/50000]\n",
      "loss: 0.036843  [38400/50000]\n",
      "loss: 0.064077  [44800/50000]\n",
      "Train Error: \n",
      " Accuracy: 97.1%, Avg loss: 0.001554 \n",
      "\n",
      "Test Error: \n",
      " Accuracy: 98.5%, Avg loss: 0.000806 \n",
      "\n",
      "Epoch 4\n",
      "-------------------------------\n",
      "loss: 0.042862  [    0/50000]\n",
      "loss: 0.100689  [ 6400/50000]\n",
      "loss: 0.038906  [12800/50000]\n",
      "loss: 0.143018  [19200/50000]\n",
      "loss: 0.091623  [25600/50000]\n",
      "loss: 0.034561  [32000/50000]\n",
      "loss: 0.166499  [38400/50000]\n",
      "loss: 0.241751  [44800/50000]\n",
      "Train Error: \n",
      " Accuracy: 97.4%, Avg loss: 0.001392 \n",
      "\n",
      "Test Error: \n",
      " Accuracy: 98.7%, Avg loss: 0.000740 \n",
      "\n",
      "Epoch 5\n",
      "-------------------------------\n",
      "loss: 0.070582  [    0/50000]\n",
      "loss: 0.036067  [ 6400/50000]\n",
      "loss: 0.061877  [12800/50000]\n",
      "loss: 0.106291  [19200/50000]\n",
      "loss: 0.024066  [25600/50000]\n",
      "loss: 0.038725  [32000/50000]\n",
      "loss: 0.102186  [38400/50000]\n",
      "loss: 0.264763  [44800/50000]\n",
      "Train Error: \n",
      " Accuracy: 97.6%, Avg loss: 0.001216 \n",
      "\n",
      "Test Error: \n",
      " Accuracy: 98.6%, Avg loss: 0.000756 \n",
      "\n",
      "Epoch 6\n",
      "-------------------------------\n",
      "loss: 0.008948  [    0/50000]\n",
      "loss: 0.048562  [ 6400/50000]\n",
      "loss: 0.210341  [12800/50000]\n",
      "loss: 0.208969  [19200/50000]\n",
      "loss: 0.043482  [25600/50000]\n",
      "loss: 0.063446  [32000/50000]\n",
      "loss: 0.050412  [38400/50000]\n",
      "loss: 0.038055  [44800/50000]\n",
      "Train Error: \n",
      " Accuracy: 97.8%, Avg loss: 0.001159 \n",
      "\n",
      "Test Error: \n",
      " Accuracy: 98.8%, Avg loss: 0.000685 \n",
      "\n",
      "Epoch 7\n",
      "-------------------------------\n",
      "loss: 0.066358  [    0/50000]\n",
      "loss: 0.022750  [ 6400/50000]\n",
      "loss: 0.028614  [12800/50000]\n",
      "loss: 0.093735  [19200/50000]\n",
      "loss: 0.123417  [25600/50000]\n",
      "loss: 0.083161  [32000/50000]\n",
      "loss: 0.100906  [38400/50000]\n",
      "loss: 0.052230  [44800/50000]\n",
      "Train Error: \n",
      " Accuracy: 98.0%, Avg loss: 0.001072 \n",
      "\n",
      "Test Error: \n",
      " Accuracy: 98.8%, Avg loss: 0.000725 \n",
      "\n",
      "Epoch 8\n",
      "-------------------------------\n",
      "loss: 0.011177  [    0/50000]\n",
      "loss: 0.107498  [ 6400/50000]\n",
      "loss: 0.038139  [12800/50000]\n",
      "loss: 0.125265  [19200/50000]\n",
      "loss: 0.032646  [25600/50000]\n",
      "loss: 0.011908  [32000/50000]\n",
      "loss: 0.007366  [38400/50000]\n",
      "loss: 0.077152  [44800/50000]\n",
      "Train Error: \n",
      " Accuracy: 98.1%, Avg loss: 0.000991 \n",
      "\n",
      "Test Error: \n",
      " Accuracy: 99.0%, Avg loss: 0.000647 \n",
      "\n"
     ]
    },
    {
     "data": {
      "text/html": [],
      "text/plain": [
       "<IPython.core.display.HTML object>"
      ]
     },
     "metadata": {},
     "output_type": "display_data"
    },
    {
     "data": {
      "text/html": [
       "<br>    <style><br>        .wandb-row {<br>            display: flex;<br>            flex-direction: row;<br>            flex-wrap: wrap;<br>            justify-content: flex-start;<br>            width: 100%;<br>        }<br>        .wandb-col {<br>            display: flex;<br>            flex-direction: column;<br>            flex-basis: 100%;<br>            flex: 1;<br>            padding: 10px;<br>        }<br>    </style><br><div class=\"wandb-row\"><div class=\"wandb-col\"><h3>Run history:</h3><br/><table class=\"wandb\"><tr><td>test_epoch_accuracy</td><td>▁▄▅▆▅▇▇█</td></tr><tr><td>test_epoch_loss</td><td>█▅▃▂▃▂▂▁</td></tr><tr><td>train_batch_loss</td><td>█▂▂▁▁▁▁▁▁▁▁▁▁▁▁▂▂▁▁▁▁▁▁▁▁▁▁▁▁▁▂▁▁▁▁▁▁▁▁▁</td></tr><tr><td>train_epoch_accuracy</td><td>▁▇▇▇████</td></tr><tr><td>train_epoch_loss</td><td>█▃▂▂▁▁▁▁</td></tr></table><br/></div><div class=\"wandb-col\"><h3>Run summary:</h3><br/><table class=\"wandb\"><tr><td>test_epoch_accuracy</td><td>0.9895</td></tr><tr><td>test_epoch_loss</td><td>0.00065</td></tr><tr><td>train_batch_loss</td><td>0.00491</td></tr><tr><td>train_epoch_accuracy</td><td>0.98116</td></tr><tr><td>train_epoch_loss</td><td>0.00099</td></tr></table><br/></div></div>"
      ],
      "text/plain": [
       "<IPython.core.display.HTML object>"
      ]
     },
     "metadata": {},
     "output_type": "display_data"
    },
    {
     "data": {
      "text/html": [
       " View run <strong style=\"color:#cdcd00\">ethereal-plasma-56</strong> at: <a href='https://wandb.ai/cloudbend/mnist/runs/vgg8gfza' target=\"_blank\">https://wandb.ai/cloudbend/mnist/runs/vgg8gfza</a><br> View project at: <a href='https://wandb.ai/cloudbend/mnist' target=\"_blank\">https://wandb.ai/cloudbend/mnist</a><br>Synced 5 W&B file(s), 0 media file(s), 0 artifact file(s) and 0 other file(s)"
      ],
      "text/plain": [
       "<IPython.core.display.HTML object>"
      ]
     },
     "metadata": {},
     "output_type": "display_data"
    },
    {
     "data": {
      "text/html": [
       "Find logs at: <code>./wandb/run-20250616_203851-vgg8gfza/logs</code>"
      ],
      "text/plain": [
       "<IPython.core.display.HTML object>"
      ]
     },
     "metadata": {},
     "output_type": "display_data"
    }
   ],
   "source": [
    "import torch\n",
    "import torch.nn as nn\n",
    "from torch.utils.data import DataLoader\n",
    "\n",
    "train_dataloader = DataLoader(train_ds, batch_size=run.config.batch_size, shuffle=True, generator=generator)\n",
    "dev_dataloader = DataLoader(dev_ds, batch_size=run.config.batch_size, shuffle=False)\n",
    "\n",
    "model = CNN()\n",
    "\n",
    "run.watch(model)\n",
    "\n",
    "loss_fn = nn.CrossEntropyLoss()\n",
    "optimizer = torch.optim.Adam(model.parameters(), lr=run.config.learning_rate)\n",
    "\n",
    "for t in range(run.config.epochs):\n",
    "    print(f\"Epoch {t+1}\\n-------------------------------\")\n",
    "    train_metrics = train_loop(model, train_dataloader, loss_fn, optimizer)\n",
    "    test_metrics = test_loop(model, dev_dataloader, loss_fn)\n",
    "    run.log({\n",
    "        \"train_epoch_accuracy\": train_metrics[\"accuracy\"],\n",
    "        \"train_epoch_loss\": train_metrics[\"loss\"],\n",
    "        \"test_epoch_accuracy\": test_metrics[\"accuracy\"],\n",
    "        \"test_epoch_loss\": test_metrics[\"loss\"],\n",
    "    })\n",
    "\n",
    "run.finish()"
   ]
  },
  {
   "cell_type": "markdown",
   "metadata": {},
   "source": [
    "# Evaluation"
   ]
  },
  {
   "cell_type": "code",
   "execution_count": 58,
   "metadata": {},
   "outputs": [
    {
     "data": {
      "text/plain": [
       "Dataset MNIST\n",
       "    Number of datapoints: 10000\n",
       "    Root location: /workspaces/mnist/data/test\n",
       "    Split: Test\n",
       "    StandardTransform\n",
       "Transform: ToTensor()"
      ]
     },
     "execution_count": 58,
     "metadata": {},
     "output_type": "execute_result"
    }
   ],
   "source": [
    "from torchvision.datasets import MNIST\n",
    "from torchvision.transforms import ToTensor\n",
    "\n",
    "test_ds = MNIST(\n",
    "    root=DATA_DIR / \"test\",\n",
    "    train=False,\n",
    "    download=True,\n",
    "    transform=ToTensor(),\n",
    ")\n",
    "\n",
    "test_ds"
   ]
  },
  {
   "cell_type": "code",
   "execution_count": 59,
   "metadata": {},
   "outputs": [
    {
     "name": "stdout",
     "output_type": "stream",
     "text": [
      "Test Error: \n",
      " Accuracy: 99.0%, Avg loss: 0.000456 \n",
      "\n"
     ]
    }
   ],
   "source": [
    "from torch.utils.data import DataLoader\n",
    "\n",
    "test_dataloader = DataLoader(test_ds, batch_size=run.config.batch_size, shuffle=False)\n",
    "\n",
    "_ = test_loop(model, test_dataloader, loss_fn)"
   ]
  }
 ],
 "metadata": {
  "kernelspec": {
   "display_name": "Python 3",
   "language": "python",
   "name": "python3"
  },
  "language_info": {
   "codemirror_mode": {
    "name": "ipython",
    "version": 3
   },
   "file_extension": ".py",
   "mimetype": "text/x-python",
   "name": "python",
   "nbconvert_exporter": "python",
   "pygments_lexer": "ipython3",
   "version": "3.12.9"
  }
 },
 "nbformat": 4,
 "nbformat_minor": 2
}
