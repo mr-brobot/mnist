{
 "cells": [
  {
   "cell_type": "code",
   "execution_count": 1,
   "metadata": {},
   "outputs": [
    {
     "data": {
      "text/plain": [
       "PosixPath('/workspaces/mnist/data')"
      ]
     },
     "execution_count": 1,
     "metadata": {},
     "output_type": "execute_result"
    }
   ],
   "source": [
    "from pathlib import Path\n",
    "\n",
    "DATA_DIR = Path.cwd().parent / \"data\"\n",
    "\n",
    "DATA_DIR"
   ]
  },
  {
   "cell_type": "code",
   "execution_count": 2,
   "metadata": {},
   "outputs": [
    {
     "data": {
      "text/plain": [
       "device(type='cuda')"
      ]
     },
     "execution_count": 2,
     "metadata": {},
     "output_type": "execute_result"
    }
   ],
   "source": [
    "import torch\n",
    "\n",
    "device = torch.device(\"cuda\" if torch.cuda.is_available() else \"cpu\")\n",
    "\n",
    "if torch.cuda.is_available():\n",
    "    torch.set_float32_matmul_precision('high')\n",
    "\n",
    "device"
   ]
  },
  {
   "cell_type": "code",
   "execution_count": 3,
   "metadata": {},
   "outputs": [],
   "source": [
    "import torch\n",
    "\n",
    "generator = torch.Generator().manual_seed(42)"
   ]
  },
  {
   "cell_type": "markdown",
   "metadata": {},
   "source": [
    "# Splits"
   ]
  },
  {
   "cell_type": "code",
   "execution_count": 4,
   "metadata": {},
   "outputs": [
    {
     "data": {
      "text/plain": [
       "Dataset MNIST\n",
       "    Number of datapoints: 60000\n",
       "    Root location: /workspaces/mnist/data/train\n",
       "    Split: Train\n",
       "    StandardTransform\n",
       "Transform: ToTensor()"
      ]
     },
     "execution_count": 4,
     "metadata": {},
     "output_type": "execute_result"
    }
   ],
   "source": [
    "from torchvision.datasets import MNIST\n",
    "from torchvision.transforms import ToTensor\n",
    "\n",
    "train_ds = MNIST(\n",
    "    root=DATA_DIR / \"train\",\n",
    "    train=True,\n",
    "    download=True,\n",
    "    transform=ToTensor(),\n",
    ")\n",
    "\n",
    "train_ds"
   ]
  },
  {
   "cell_type": "code",
   "execution_count": 5,
   "metadata": {},
   "outputs": [
    {
     "data": {
      "text/plain": [
       "(50000, 10000)"
      ]
     },
     "execution_count": 5,
     "metadata": {},
     "output_type": "execute_result"
    }
   ],
   "source": [
    "from torch.utils.data import random_split\n",
    "\n",
    "DEV_SIZE = 10_000\n",
    "\n",
    "train_ds, dev_ds = random_split(\n",
    "    train_ds,\n",
    "    [len(train_ds) - DEV_SIZE, DEV_SIZE],\n",
    "    generator=generator,\n",
    ")\n",
    "\n",
    "len(train_ds), len(dev_ds)"
   ]
  },
  {
   "cell_type": "markdown",
   "metadata": {},
   "source": [
    "# Definition"
   ]
  },
  {
   "cell_type": "markdown",
   "metadata": {},
   "source": [
    "with relu activations, conventional normalization (e.g., converting to standard deviations) with a 0-skewed input dataset, gradients will vanish. min-max scaling seems like a better approach with relu. since the min is 0, this will end up just dividing each input by 255\n",
    "\n",
    "learning with min-max scaling is much slower. current hypothesis is that, with input values heavily skewed towards 0, the non-zero values do not have enough influence. so weights need to be much larger to compensate. should look at batch norm next, and find other ways to test this hypothesis"
   ]
  },
  {
   "cell_type": "code",
   "execution_count": 6,
   "metadata": {},
   "outputs": [
    {
     "data": {
      "text/plain": [
       "(0.0, 255.0)"
      ]
     },
     "execution_count": 6,
     "metadata": {},
     "output_type": "execute_result"
    }
   ],
   "source": [
    "X_train = train_ds.dataset.data.float()\n",
    "\n",
    "min = X_train.min().item()\n",
    "max = X_train.max().item()\n",
    "\n",
    "min, max"
   ]
  },
  {
   "cell_type": "code",
   "execution_count": 7,
   "metadata": {},
   "outputs": [],
   "source": [
    "import torch.nn as nn\n",
    "\n",
    "class Scale(nn.Module):\n",
    "    min: float\n",
    "    max: float\n",
    "\n",
    "    def __init__(self, min: float, max: float):\n",
    "        super().__init__()\n",
    "        self.min = min\n",
    "        self.max = max\n",
    "\n",
    "    def forward(self, x):\n",
    "        return (x - self.min) / (self.max - self.min)"
   ]
  },
  {
   "cell_type": "code",
   "execution_count": null,
   "metadata": {},
   "outputs": [],
   "source": [
    "import torch\n",
    "import torch.nn as nn\n",
    "\n",
    "@torch.compile\n",
    "class CNN(nn.Module):\n",
    "    def __init__(self):\n",
    "        super().__init__()\n",
    "\n",
    "        self.scale = Scale(min, max)\n",
    "\n",
    "        self.conv_stack = nn.Sequential(\n",
    "            nn.Conv2d(1, 32, kernel_size=3, padding=1), # padding maintains spatial dims\n",
    "            nn.BatchNorm2d(32),\n",
    "            nn.ReLU(),\n",
    "            nn.MaxPool2d(kernel_size=2, stride=2), # 28x28 -> 14x14\n",
    "\n",
    "            nn.Conv2d(32, 64, kernel_size=3, padding=1), # padding maintains spatial dims\n",
    "            nn.BatchNorm2d(64),\n",
    "            nn.ReLU(),\n",
    "            nn.MaxPool2d(kernel_size=2, stride=2), # 14x14 -> 7x7\n",
    "\n",
    "            nn.Conv2d(64, 128, kernel_size=3, padding=1), # padding maintains spatial dims\n",
    "            nn.BatchNorm2d(128),\n",
    "            nn.ReLU(),\n",
    "            nn.MaxPool2d(kernel_size=2, stride=2), # 7x7 -> 3x3\n",
    "        )\n",
    "\n",
    "        self.flatten = nn.Flatten()\n",
    "\n",
    "        self.linear_stack = nn.Sequential(\n",
    "            nn.Linear(128 * 3 * 3, 512),\n",
    "            nn.ReLU(),\n",
    "            nn.Dropout(0.5),\n",
    "            nn.Linear(512, 10),\n",
    "        )\n",
    "\n",
    "    def forward(self, x):\n",
    "        x = self.scale(x)\n",
    "        x = self.conv_stack(x)\n",
    "        x = self.flatten(x)\n",
    "        x = self.linear_stack(x)\n",
    "        return x"
   ]
  },
  {
   "cell_type": "code",
   "execution_count": 51,
   "metadata": {},
   "outputs": [
    {
     "data": {
      "text/plain": [
       "CNN(\n",
       "  (scale): Scale()\n",
       "  (conv_stack): Sequential(\n",
       "    (0): Conv2d(1, 32, kernel_size=(3, 3), stride=(1, 1), padding=(1, 1))\n",
       "    (1): BatchNorm2d(32, eps=1e-05, momentum=0.1, affine=True, track_running_stats=True)\n",
       "    (2): ReLU()\n",
       "    (3): MaxPool2d(kernel_size=2, stride=2, padding=0, dilation=1, ceil_mode=False)\n",
       "    (4): Conv2d(32, 64, kernel_size=(3, 3), stride=(1, 1), padding=(1, 1))\n",
       "    (5): BatchNorm2d(64, eps=1e-05, momentum=0.1, affine=True, track_running_stats=True)\n",
       "    (6): ReLU()\n",
       "    (7): MaxPool2d(kernel_size=2, stride=2, padding=0, dilation=1, ceil_mode=False)\n",
       "    (8): Conv2d(64, 128, kernel_size=(3, 3), stride=(1, 1), padding=(1, 1))\n",
       "    (9): BatchNorm2d(128, eps=1e-05, momentum=0.1, affine=True, track_running_stats=True)\n",
       "    (10): ReLU()\n",
       "    (11): MaxPool2d(kernel_size=2, stride=2, padding=0, dilation=1, ceil_mode=False)\n",
       "  )\n",
       "  (flatten): Flatten(start_dim=1, end_dim=-1)\n",
       "  (linear_stack): Sequential(\n",
       "    (0): Linear(in_features=1152, out_features=512, bias=True)\n",
       "    (1): ReLU()\n",
       "    (2): Dropout(p=0.5, inplace=False)\n",
       "    (3): Linear(in_features=512, out_features=10, bias=True)\n",
       "  )\n",
       ")"
      ]
     },
     "execution_count": 51,
     "metadata": {},
     "output_type": "execute_result"
    }
   ],
   "source": [
    "model = CNN()\n",
    "\n",
    "model"
   ]
  },
  {
   "cell_type": "markdown",
   "metadata": {},
   "source": [
    "# Training"
   ]
  },
  {
   "cell_type": "code",
   "execution_count": 52,
   "metadata": {},
   "outputs": [
    {
     "data": {
      "text/html": [
       "Tracking run with wandb version 0.19.2"
      ],
      "text/plain": [
       "<IPython.core.display.HTML object>"
      ]
     },
     "metadata": {},
     "output_type": "display_data"
    },
    {
     "data": {
      "text/html": [
       "Run data is saved locally in <code>/workspaces/mnist/nbs/wandb/run-20250210_215608-f8asqhad</code>"
      ],
      "text/plain": [
       "<IPython.core.display.HTML object>"
      ]
     },
     "metadata": {},
     "output_type": "display_data"
    },
    {
     "data": {
      "text/html": [
       "Syncing run <strong><a href='https://wandb.ai/cloudbend/mnist/runs/f8asqhad' target=\"_blank\">glowing-flower-29</a></strong> to <a href='https://wandb.ai/cloudbend/mnist' target=\"_blank\">Weights & Biases</a> (<a href='https://wandb.me/developer-guide' target=\"_blank\">docs</a>)<br>"
      ],
      "text/plain": [
       "<IPython.core.display.HTML object>"
      ]
     },
     "metadata": {},
     "output_type": "display_data"
    },
    {
     "data": {
      "text/html": [
       " View project at <a href='https://wandb.ai/cloudbend/mnist' target=\"_blank\">https://wandb.ai/cloudbend/mnist</a>"
      ],
      "text/plain": [
       "<IPython.core.display.HTML object>"
      ]
     },
     "metadata": {},
     "output_type": "display_data"
    },
    {
     "data": {
      "text/html": [
       " View run at <a href='https://wandb.ai/cloudbend/mnist/runs/f8asqhad' target=\"_blank\">https://wandb.ai/cloudbend/mnist/runs/f8asqhad</a>"
      ],
      "text/plain": [
       "<IPython.core.display.HTML object>"
      ]
     },
     "metadata": {},
     "output_type": "display_data"
    }
   ],
   "source": [
    "import wandb\n",
    "\n",
    "run = wandb.init(project=\"mnist\", config={\n",
    "    \"architecture\": \"cnn\",\n",
    "    \"epochs\": 8,\n",
    "    \"batch_size\": 64,\n",
    "    \"learning_rate\": 1e-3,\n",
    "})"
   ]
  },
  {
   "cell_type": "code",
   "execution_count": 53,
   "metadata": {},
   "outputs": [],
   "source": [
    "import torch\n",
    "import torch.nn as nn\n",
    "from torch.utils.data import DataLoader\n",
    "from typing import TypedDict\n",
    "\n",
    "class LoopMetrics(TypedDict):\n",
    "    accuracy: float\n",
    "    loss: float\n",
    "\n",
    "def train_loop(model: nn.Module, dataloader: DataLoader, loss_fn: nn.Module, optimizer: torch.optim.Optimizer) -> LoopMetrics:\n",
    "    model = model.to(device).train()\n",
    "    size = len(dataloader.dataset)\n",
    "    train_loss, correct = 0, 0\n",
    "    for batch, (X, y) in enumerate(dataloader):\n",
    "        X, y = X.to(device), y.to(device)\n",
    "\n",
    "        pred = model(X)\n",
    "        loss = loss_fn(pred, y)\n",
    "\n",
    "        train_loss += loss.item()\n",
    "        run.log({\"train_batch_loss\": loss.item()})\n",
    "\n",
    "        optimizer.zero_grad()\n",
    "        loss.backward()\n",
    "        optimizer.step()\n",
    "        \n",
    "        correct += (\n",
    "            (pred.argmax(1) == y)\n",
    "            .type(torch.float)\n",
    "            .sum()\n",
    "            .item()\n",
    "        )\n",
    "\n",
    "        if batch % 100 == 0:\n",
    "            loss, current = loss.item(), batch * len(X)\n",
    "            print(f\"loss: {loss:>7f}  [{current:>5d}/{size:>5d}]\")\n",
    "            \n",
    "    accuracy = correct / size\n",
    "    train_loss /= size\n",
    "\n",
    "    print(f\"Train Error: \\n Accuracy: {100 * accuracy:>0.1f}%, Avg loss: {train_loss:>8f} \\n\")\n",
    "\n",
    "    return {\n",
    "        \"accuracy\": accuracy,\n",
    "        \"loss\": train_loss,\n",
    "    }\n",
    "\n",
    "@torch.no_grad\n",
    "def test_loop(model: nn.Module, dataloader: DataLoader, loss_fn: nn.Module) -> LoopMetrics:\n",
    "    model = model.to(device).eval()\n",
    "    size = len(dataloader.dataset)\n",
    "    test_loss, correct = 0, 0\n",
    "\n",
    "    for X, y in dataloader:\n",
    "        X, y = X.to(device), y.to(device)\n",
    "\n",
    "        pred = model(X)\n",
    "        loss = loss_fn(pred, y)\n",
    "    \n",
    "        test_loss += loss.item()\n",
    "    \n",
    "        correct += (\n",
    "            (pred.argmax(1) == y)\n",
    "            .type(torch.float)\n",
    "            .sum()\n",
    "            .item()\n",
    "        )\n",
    "\n",
    "    test_loss /= size\n",
    "    accuracy = correct / size\n",
    "    print(f\"Test Error: \\n Accuracy: {100 * accuracy:>0.1f}%, Avg loss: {test_loss:>8f} \\n\")\n",
    "\n",
    "    return {\n",
    "        \"accuracy\": accuracy,\n",
    "        \"loss\": test_loss,\n",
    "    }"
   ]
  },
  {
   "cell_type": "code",
   "execution_count": null,
   "metadata": {},
   "outputs": [],
   "source": []
  },
  {
   "cell_type": "code",
   "execution_count": 54,
   "metadata": {},
   "outputs": [
    {
     "name": "stdout",
     "output_type": "stream",
     "text": [
      "Epoch 1\n",
      "-------------------------------\n",
      "loss: 2.332319  [    0/50000]\n",
      "loss: 0.098487  [ 6400/50000]\n",
      "loss: 0.050322  [12800/50000]\n",
      "loss: 0.056963  [19200/50000]\n",
      "loss: 0.061045  [25600/50000]\n",
      "loss: 0.055132  [32000/50000]\n",
      "loss: 0.095527  [38400/50000]\n",
      "loss: 0.090038  [44800/50000]\n",
      "Train Error: \n",
      " Accuracy: 95.9%, Avg loss: 0.002066 \n",
      "\n",
      "Test Error: \n",
      " Accuracy: 21.7%, Avg loss: 0.141404 \n",
      "\n",
      "Epoch 2\n",
      "-------------------------------\n",
      "loss: 0.101278  [    0/50000]\n",
      "loss: 0.003409  [ 6400/50000]\n",
      "loss: 0.132791  [12800/50000]\n",
      "loss: 0.012607  [19200/50000]\n",
      "loss: 0.006297  [25600/50000]\n",
      "loss: 0.023155  [32000/50000]\n",
      "loss: 0.035595  [38400/50000]\n",
      "loss: 0.022563  [44800/50000]\n",
      "Train Error: \n",
      " Accuracy: 98.4%, Avg loss: 0.000831 \n",
      "\n",
      "Test Error: \n",
      " Accuracy: 45.6%, Avg loss: 0.026543 \n",
      "\n",
      "Epoch 3\n",
      "-------------------------------\n",
      "loss: 0.032252  [    0/50000]\n",
      "loss: 0.037924  [ 6400/50000]\n",
      "loss: 0.019074  [12800/50000]\n",
      "loss: 0.023290  [19200/50000]\n",
      "loss: 0.007244  [25600/50000]\n",
      "loss: 0.173536  [32000/50000]\n",
      "loss: 0.004867  [38400/50000]\n",
      "loss: 0.012248  [44800/50000]\n",
      "Train Error: \n",
      " Accuracy: 98.8%, Avg loss: 0.000587 \n",
      "\n",
      "Test Error: \n",
      " Accuracy: 26.3%, Avg loss: 0.117345 \n",
      "\n",
      "Epoch 4\n",
      "-------------------------------\n",
      "loss: 0.005985  [    0/50000]\n",
      "loss: 0.005498  [ 6400/50000]\n",
      "loss: 0.037654  [12800/50000]\n",
      "loss: 0.072320  [19200/50000]\n",
      "loss: 0.001542  [25600/50000]\n",
      "loss: 0.035004  [32000/50000]\n",
      "loss: 0.028821  [38400/50000]\n",
      "loss: 0.010768  [44800/50000]\n",
      "Train Error: \n",
      " Accuracy: 99.1%, Avg loss: 0.000477 \n",
      "\n",
      "Test Error: \n",
      " Accuracy: 9.7%, Avg loss: 0.319225 \n",
      "\n",
      "Epoch 5\n",
      "-------------------------------\n",
      "loss: 0.014803  [    0/50000]\n",
      "loss: 0.002148  [ 6400/50000]\n",
      "loss: 0.029130  [12800/50000]\n",
      "loss: 0.008023  [19200/50000]\n",
      "loss: 0.002964  [25600/50000]\n",
      "loss: 0.052371  [32000/50000]\n",
      "loss: 0.005497  [38400/50000]\n",
      "loss: 0.158293  [44800/50000]\n",
      "Train Error: \n",
      " Accuracy: 99.3%, Avg loss: 0.000355 \n",
      "\n",
      "Test Error: \n",
      " Accuracy: 87.6%, Avg loss: 0.005938 \n",
      "\n",
      "Epoch 6\n",
      "-------------------------------\n",
      "loss: 0.021346  [    0/50000]\n",
      "loss: 0.011283  [ 6400/50000]\n",
      "loss: 0.019630  [12800/50000]\n",
      "loss: 0.097916  [19200/50000]\n",
      "loss: 0.008200  [25600/50000]\n",
      "loss: 0.007096  [32000/50000]\n",
      "loss: 0.048327  [38400/50000]\n",
      "loss: 0.004272  [44800/50000]\n",
      "Train Error: \n",
      " Accuracy: 99.3%, Avg loss: 0.000316 \n",
      "\n",
      "Test Error: \n",
      " Accuracy: 47.5%, Avg loss: 0.042914 \n",
      "\n",
      "Epoch 7\n",
      "-------------------------------\n",
      "loss: 0.003438  [    0/50000]\n",
      "loss: 0.012910  [ 6400/50000]\n",
      "loss: 0.002765  [12800/50000]\n",
      "loss: 0.008693  [19200/50000]\n",
      "loss: 0.000828  [25600/50000]\n",
      "loss: 0.002198  [32000/50000]\n",
      "loss: 0.019869  [38400/50000]\n",
      "loss: 0.008450  [44800/50000]\n",
      "Train Error: \n",
      " Accuracy: 99.5%, Avg loss: 0.000268 \n",
      "\n",
      "Test Error: \n",
      " Accuracy: 15.2%, Avg loss: 0.129560 \n",
      "\n",
      "Epoch 8\n",
      "-------------------------------\n",
      "loss: 0.006478  [    0/50000]\n",
      "loss: 0.056270  [ 6400/50000]\n",
      "loss: 0.002564  [12800/50000]\n",
      "loss: 0.017945  [19200/50000]\n",
      "loss: 0.000772  [25600/50000]\n",
      "loss: 0.001887  [32000/50000]\n",
      "loss: 0.029133  [38400/50000]\n",
      "loss: 0.012050  [44800/50000]\n",
      "Train Error: \n",
      " Accuracy: 99.5%, Avg loss: 0.000240 \n",
      "\n",
      "Test Error: \n",
      " Accuracy: 9.7%, Avg loss: 0.375092 \n",
      "\n"
     ]
    },
    {
     "data": {
      "text/html": [],
      "text/plain": [
       "<IPython.core.display.HTML object>"
      ]
     },
     "metadata": {},
     "output_type": "display_data"
    },
    {
     "data": {
      "text/html": [
       "<br>    <style><br>        .wandb-row {<br>            display: flex;<br>            flex-direction: row;<br>            flex-wrap: wrap;<br>            justify-content: flex-start;<br>            width: 100%;<br>        }<br>        .wandb-col {<br>            display: flex;<br>            flex-direction: column;<br>            flex-basis: 100%;<br>            flex: 1;<br>            padding: 10px;<br>        }<br>    </style><br><div class=\"wandb-row\"><div class=\"wandb-col\"><h3>Run history:</h3><br/><table class=\"wandb\"><tr><td>test_epoch_accuracy</td><td>▂▄▂▁█▄▁▁</td></tr><tr><td>test_epoch_loss</td><td>▄▁▃▇▁▂▃█</td></tr><tr><td>train_batch_loss</td><td>▅▃▂▂▄▇▄▃▃▂▃▅▂▄▂▁▁▁▂▅▂▂▁▁▃▃▁▁▄▄▁█▃▁▁▃▁▁▂▁</td></tr><tr><td>train_epoch_accuracy</td><td>▁▆▇▇████</td></tr><tr><td>train_epoch_loss</td><td>█▃▂▂▁▁▁▁</td></tr></table><br/></div><div class=\"wandb-col\"><h3>Run summary:</h3><br/><table class=\"wandb\"><tr><td>test_epoch_accuracy</td><td>0.0969</td></tr><tr><td>test_epoch_loss</td><td>0.37509</td></tr><tr><td>train_batch_loss</td><td>0.00322</td></tr><tr><td>train_epoch_accuracy</td><td>0.99478</td></tr><tr><td>train_epoch_loss</td><td>0.00024</td></tr></table><br/></div></div>"
      ],
      "text/plain": [
       "<IPython.core.display.HTML object>"
      ]
     },
     "metadata": {},
     "output_type": "display_data"
    },
    {
     "data": {
      "text/html": [
       " View run <strong style=\"color:#cdcd00\">glowing-flower-29</strong> at: <a href='https://wandb.ai/cloudbend/mnist/runs/f8asqhad' target=\"_blank\">https://wandb.ai/cloudbend/mnist/runs/f8asqhad</a><br> View project at: <a href='https://wandb.ai/cloudbend/mnist' target=\"_blank\">https://wandb.ai/cloudbend/mnist</a><br>Synced 5 W&B file(s), 0 media file(s), 0 artifact file(s) and 0 other file(s)"
      ],
      "text/plain": [
       "<IPython.core.display.HTML object>"
      ]
     },
     "metadata": {},
     "output_type": "display_data"
    },
    {
     "data": {
      "text/html": [
       "Find logs at: <code>./wandb/run-20250210_215608-f8asqhad/logs</code>"
      ],
      "text/plain": [
       "<IPython.core.display.HTML object>"
      ]
     },
     "metadata": {},
     "output_type": "display_data"
    }
   ],
   "source": [
    "import torch\n",
    "import torch.nn as nn\n",
    "from torch.utils.data import DataLoader\n",
    "\n",
    "train_dataloader = DataLoader(train_ds, batch_size=run.config.batch_size, shuffle=True, generator=generator)\n",
    "dev_dataloader = DataLoader(dev_ds, batch_size=run.config.batch_size, shuffle=False)\n",
    "\n",
    "model = CNN()\n",
    "\n",
    "run.watch(model)\n",
    "\n",
    "loss_fn = nn.CrossEntropyLoss()\n",
    "optimizer = torch.optim.Adam(model.parameters(), lr=run.config.learning_rate)\n",
    "\n",
    "for t in range(run.config.epochs):\n",
    "    print(f\"Epoch {t+1}\\n-------------------------------\")\n",
    "    train_metrics = train_loop(model, train_dataloader, loss_fn, optimizer)\n",
    "    test_metrics = test_loop(model, dev_dataloader, loss_fn)\n",
    "    run.log({\n",
    "        \"train_epoch_accuracy\": train_metrics[\"accuracy\"],\n",
    "        \"train_epoch_loss\": train_metrics[\"loss\"],\n",
    "        \"test_epoch_accuracy\": test_metrics[\"accuracy\"],\n",
    "        \"test_epoch_loss\": test_metrics[\"loss\"],\n",
    "    })\n",
    "\n",
    "run.finish()"
   ]
  },
  {
   "cell_type": "code",
   "execution_count": null,
   "metadata": {},
   "outputs": [],
   "source": []
  }
 ],
 "metadata": {
  "kernelspec": {
   "display_name": "Python 3",
   "language": "python",
   "name": "python3"
  },
  "language_info": {
   "codemirror_mode": {
    "name": "ipython",
    "version": 3
   },
   "file_extension": ".py",
   "mimetype": "text/x-python",
   "name": "python",
   "nbconvert_exporter": "python",
   "pygments_lexer": "ipython3",
   "version": "3.12.8"
  }
 },
 "nbformat": 4,
 "nbformat_minor": 2
}
